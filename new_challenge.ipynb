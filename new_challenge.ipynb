{
 "cells": [
  {
   "cell_type": "code",
   "execution_count": 1,
   "metadata": {
    "scrolled": true
   },
   "outputs": [
    {
     "data": {
      "text/plain": [
       "['trans_new.parquet',\n",
       " 'client.csv',\n",
       " 'account.csv',\n",
       " 'loan.csv',\n",
       " 'trans_df.parquet',\n",
       " 'disp.csv',\n",
       " 'district.csv',\n",
       " 'card.csv',\n",
       " 'new_challenge.ipynb',\n",
       " 'trans.csv',\n",
       " '.ipynb_checkpoints',\n",
       " 'order.csv',\n",
       " 'spark-warehouse',\n",
       " 'test.ipynb']"
      ]
     },
     "execution_count": 1,
     "metadata": {},
     "output_type": "execute_result"
    }
   ],
   "source": [
    "import os, glob\n",
    "os.listdir()"
   ]
  },
  {
   "cell_type": "code",
   "execution_count": 2,
   "metadata": {},
   "outputs": [],
   "source": [
    "# read all csv as pyspark dataframes\n",
    "from pyspark.sql import SparkSession\n",
    "spark = SparkSession.builder.getOrCreate()\n",
    "\n",
    "account_df = spark.read.csv(\"account.csv\",header=True,sep=\";\")\n",
    "client_df = spark.read.csv(\"client.csv\",header=True,sep=\";\")\n",
    "loan_df = spark.read.csv(\"loan.csv\",header=True,sep=\";\")\n",
    "disp_df = spark.read.csv(\"disp.csv\",header=True,sep=\";\")\n",
    "district_df = spark.read.csv(\"district.csv\",header=True,sep=\";\")\n",
    "card_df = spark.read.csv(\"card.csv\",header=True,sep=\";\")\n",
    "trans_df = spark.read.csv(\"trans.csv\",header=True,sep=\";\")\n",
    "order_df = spark.read.csv(\"order.csv\",header=True,sep=\";\")"
   ]
  },
  {
   "cell_type": "code",
   "execution_count": 3,
   "metadata": {},
   "outputs": [
    {
     "data": {
      "text/plain": [
       "DataFrame[trans_id: string, account_id: string, date: string, type: string, operation: string, amount: string, balance: string, k_symbol: string, branch: string, bank: string, account: string]"
      ]
     },
     "execution_count": 3,
     "metadata": {},
     "output_type": "execute_result"
    }
   ],
   "source": [
    "trans_df"
   ]
  },
  {
   "cell_type": "code",
   "execution_count": 4,
   "metadata": {},
   "outputs": [
    {
     "data": {
      "text/plain": [
       "[Row(date='1998-05-31'),\n",
       " Row(date='1998-01-09'),\n",
       " Row(date='1996-11-30'),\n",
       " Row(date='1996-10-28'),\n",
       " Row(date='1998-07-30'),\n",
       " Row(date='1995-06-07'),\n",
       " Row(date='1997-12-03'),\n",
       " Row(date='1997-01-13'),\n",
       " Row(date='1994-04-30'),\n",
       " Row(date='1997-02-05'),\n",
       " Row(date='1996-12-31'),\n",
       " Row(date='1997-06-01'),\n",
       " Row(date='1996-03-05'),\n",
       " Row(date='1997-10-12'),\n",
       " Row(date='1996-09-13'),\n",
       " Row(date='1998-08-17'),\n",
       " Row(date='1997-11-12'),\n",
       " Row(date='1998-10-31'),\n",
       " Row(date='1996-05-06'),\n",
       " Row(date='1997-05-05'),\n",
       " Row(date='1997-03-10'),\n",
       " Row(date='1998-08-14'),\n",
       " Row(date='1998-12-14'),\n",
       " Row(date='1995-04-09'),\n",
       " Row(date='1995-08-31'),\n",
       " Row(date='1997-01-31'),\n",
       " Row(date='1998-06-05'),\n",
       " Row(date='1997-02-28'),\n",
       " Row(date='1997-04-30'),\n",
       " Row(date='1995-10-27'),\n",
       " Row(date='1997-08-05'),\n",
       " Row(date='1997-06-30'),\n",
       " Row(date='1995-03-14'),\n",
       " Row(date='1995-04-09'),\n",
       " Row(date='1997-03-21'),\n",
       " Row(date='1997-12-08'),\n",
       " Row(date='1997-03-12'),\n",
       " Row(date='1997-11-17'),\n",
       " Row(date='1998-12-06'),\n",
       " Row(date='1994-10-20'),\n",
       " Row(date='1995-02-13'),\n",
       " Row(date='1998-11-28'),\n",
       " Row(date='1998-01-31'),\n",
       " Row(date='1998-06-07'),\n",
       " Row(date='1998-04-12'),\n",
       " Row(date='1996-12-07'),\n",
       " Row(date='1997-03-06'),\n",
       " Row(date='1995-05-12'),\n",
       " Row(date='1997-01-08'),\n",
       " Row(date='1997-12-12'),\n",
       " Row(date='1997-04-06'),\n",
       " Row(date='1998-01-11'),\n",
       " Row(date='1996-12-05'),\n",
       " Row(date='1997-01-23'),\n",
       " Row(date='1996-31-12'),\n",
       " Row(date='1996-11-06'),\n",
       " Row(date='1997-01-26'),\n",
       " Row(date='1993-08-31'),\n",
       " Row(date='1996-01-31'),\n",
       " Row(date='1998-04-12'),\n",
       " Row(date='1993-11-13'),\n",
       " Row(date='1998-08-31'),\n",
       " Row(date='1995-04-30'),\n",
       " Row(date='1994-01-04'),\n",
       " Row(date='1997-12-31'),\n",
       " Row(date='1998-10-31'),\n",
       " Row(date='1998-02-28'),\n",
       " Row(date='1997-08-19'),\n",
       " Row(date='1997-09-30'),\n",
       " Row(date='1995-09-08'),\n",
       " Row(date='1995-09-15'),\n",
       " Row(date='1996-05-31'),\n",
       " Row(date='1996-05-31'),\n",
       " Row(date='1997-06-03'),\n",
       " Row(date='1998-09-29'),\n",
       " Row(date='1995-07-09'),\n",
       " Row(date='1994-10-06'),\n",
       " Row(date='1997-09-09'),\n",
       " Row(date='1998-02-07'),\n",
       " Row(date='1994-10-09'),\n",
       " Row(date='1998-05-24'),\n",
       " Row(date='1998-05-31'),\n",
       " Row(date='1996-11-06'),\n",
       " Row(date='1998-04-30'),\n",
       " Row(date='1998-06-05'),\n",
       " Row(date='1998-01-10'),\n",
       " Row(date='1997-09-20'),\n",
       " Row(date='1997-07-17'),\n",
       " Row(date='1994-09-30'),\n",
       " Row(date='1998-09-30'),\n",
       " Row(date='1998-03-13'),\n",
       " Row(date='1996-01-12'),\n",
       " Row(date='1998-11-30'),\n",
       " Row(date='1993-11-30'),\n",
       " Row(date='1997-01-31'),\n",
       " Row(date='1995-01-21'),\n",
       " Row(date='1996-09-10'),\n",
       " Row(date='1998-08-05'),\n",
       " Row(date='1997-10-12'),\n",
       " Row(date='1997-01-06'),\n",
       " Row(date='1996-03-31'),\n",
       " Row(date='1998-04-15'),\n",
       " Row(date='1996-10-08'),\n",
       " Row(date='1998-05-31'),\n",
       " Row(date='1997-03-06'),\n",
       " Row(date='1997-08-12'),\n",
       " Row(date='1998-09-30'),\n",
       " Row(date='1998-05-31'),\n",
       " Row(date='1995-09-05'),\n",
       " Row(date='1998-07-09'),\n",
       " Row(date='1997-12-31'),\n",
       " Row(date='1997-02-12'),\n",
       " Row(date='1996-04-30'),\n",
       " Row(date='1996-03-11'),\n",
       " Row(date='1997-05-31'),\n",
       " Row(date='1997-10-03'),\n",
       " Row(date='1998-03-20'),\n",
       " Row(date='1997-02-15'),\n",
       " Row(date='1994-11-13'),\n",
       " Row(date='1996-03-14'),\n",
       " Row(date='1997-06-02'),\n",
       " Row(date='1996-02-29'),\n",
       " Row(date='1996-12-04'),\n",
       " Row(date='1997-07-31'),\n",
       " Row(date='1998-03-31'),\n",
       " Row(date='1997-07-13'),\n",
       " Row(date='1997-01-31'),\n",
       " Row(date='1998-01-31'),\n",
       " Row(date='1996-08-09'),\n",
       " Row(date='1996-12-31'),\n",
       " Row(date='1995-08-09'),\n",
       " Row(date='1998-08-31'),\n",
       " Row(date='1998-07-12'),\n",
       " Row(date='1995-11-30'),\n",
       " Row(date='1996-08-31'),\n",
       " Row(date='1995-06-06'),\n",
       " Row(date='1997-08-31'),\n",
       " Row(date='1994-11-22'),\n",
       " Row(date='1995-10-31'),\n",
       " Row(date='1998-10-14'),\n",
       " Row(date='1998-04-30'),\n",
       " Row(date='1997-02-05'),\n",
       " Row(date='1998-06-26'),\n",
       " Row(date='1998-04-30'),\n",
       " Row(date='1997-10-02'),\n",
       " Row(date='1993-10-12'),\n",
       " Row(date='1994-02-28'),\n",
       " Row(date='1997-05-31'),\n",
       " Row(date='1998-06-13'),\n",
       " Row(date='1998-10-08'),\n",
       " Row(date='1997-07-14'),\n",
       " Row(date='1998-10-29'),\n",
       " Row(date='1998-05-05'),\n",
       " Row(date='1997-02-10'),\n",
       " Row(date='1995-09-05'),\n",
       " Row(date='1997-05-08'),\n",
       " Row(date='1996-09-30'),\n",
       " Row(date='1997-12-16'),\n",
       " Row(date='1998-12-05'),\n",
       " Row(date='1997-12-05'),\n",
       " Row(date='1997-10-31'),\n",
       " Row(date='1996-09-20'),\n",
       " Row(date='1995-09-14'),\n",
       " Row(date='1996-09-10'),\n",
       " Row(date='1996-03-31'),\n",
       " Row(date='1994-11-12'),\n",
       " Row(date='1995-03-31'),\n",
       " Row(date='1998-01-06'),\n",
       " Row(date='1998-09-15'),\n",
       " Row(date='1996-09-30'),\n",
       " Row(date='1994-11-30'),\n",
       " Row(date='1997-03-11'),\n",
       " Row(date='1998-05-31'),\n",
       " Row(date='1996-12-30'),\n",
       " Row(date='1997-10-31'),\n",
       " Row(date='1998-03-08'),\n",
       " Row(date='1996-07-31'),\n",
       " Row(date='1994-09-30'),\n",
       " Row(date='1997-07-02'),\n",
       " Row(date='1998-11-05'),\n",
       " Row(date='1997-03-31'),\n",
       " Row(date='1996-05-08'),\n",
       " Row(date='1997-12-13'),\n",
       " Row(date='1997-06-08'),\n",
       " Row(date='1993-09-05'),\n",
       " Row(date='1994-01-31'),\n",
       " Row(date='1994-04-30'),\n",
       " Row(date='1998-11-09'),\n",
       " Row(date='1998-11-30'),\n",
       " Row(date='1997-09-30'),\n",
       " Row(date='1995-03-31'),\n",
       " Row(date='1998-01-27'),\n",
       " Row(date='1997-03-09'),\n",
       " Row(date='1998-01-02'),\n",
       " Row(date='1998-03-24'),\n",
       " Row(date='1997-05-13'),\n",
       " Row(date='1998-06-30'),\n",
       " Row(date='1997-03-31'),\n",
       " Row(date='1998-06-14'),\n",
       " Row(date='1998-09-16'),\n",
       " Row(date='1998-07-31'),\n",
       " Row(date='1998-06-30'),\n",
       " Row(date='1996-08-11'),\n",
       " Row(date='1997-02-28'),\n",
       " Row(date='1995-05-31'),\n",
       " Row(date='1996-10-24'),\n",
       " Row(date='1996-02-04'),\n",
       " Row(date='1994-09-24'),\n",
       " Row(date='1997-09-14'),\n",
       " Row(date='1997-11-14'),\n",
       " Row(date='1996-09-10'),\n",
       " Row(date='1997-03-31'),\n",
       " Row(date='1997-08-31'),\n",
       " Row(date='1997-04-30'),\n",
       " Row(date='1994-02-28'),\n",
       " Row(date='1997-11-10'),\n",
       " Row(date='1998-02-08'),\n",
       " Row(date='1996-10-06'),\n",
       " Row(date='1994-08-06'),\n",
       " Row(date='1997-09-07'),\n",
       " Row(date='1997-05-08'),\n",
       " Row(date='1998-11-06'),\n",
       " Row(date='1994-10-11'),\n",
       " Row(date='1998-01-14'),\n",
       " Row(date='1996-12-06'),\n",
       " Row(date='1998-04-30'),\n",
       " Row(date='1994-08-13'),\n",
       " Row(date='1996-08-31'),\n",
       " Row(date='1994-01-04'),\n",
       " Row(date='1995-02-08'),\n",
       " Row(date='1998-03-31'),\n",
       " Row(date='1998-09-30'),\n",
       " Row(date='1996-05-10'),\n",
       " Row(date='1997-02-28'),\n",
       " Row(date='1998-08-10'),\n",
       " Row(date='1997-06-09'),\n",
       " Row(date='1996-02-02'),\n",
       " Row(date='1997-02-14'),\n",
       " Row(date='1994-11-30'),\n",
       " Row(date='1994-06-05'),\n",
       " Row(date='1998-06-30'),\n",
       " Row(date='1994-03-31'),\n",
       " Row(date='1997-10-15'),\n",
       " Row(date='1996-08-31'),\n",
       " Row(date='1998-01-13'),\n",
       " Row(date='1998-11-30'),\n",
       " Row(date='1994-08-31'),\n",
       " Row(date='1996-09-14'),\n",
       " Row(date='1997-04-30'),\n",
       " Row(date='1997-12-06'),\n",
       " Row(date='1998-06-02'),\n",
       " Row(date='1997-05-31'),\n",
       " Row(date='1998-05-06'),\n",
       " Row(date='1998-06-30'),\n",
       " Row(date='1996-02-29'),\n",
       " Row(date='1996-04-30'),\n",
       " Row(date='1997-06-07'),\n",
       " Row(date='1993-12-14'),\n",
       " Row(date='1994-05-05'),\n",
       " Row(date='1997-10-31'),\n",
       " Row(date='1998-06-22'),\n",
       " Row(date='1994-01-08'),\n",
       " Row(date='1998-07-17'),\n",
       " Row(date='1998-05-31'),\n",
       " Row(date='1996-02-29'),\n",
       " Row(date='1997-12-08'),\n",
       " Row(date='1995-10-12'),\n",
       " Row(date='1997-08-29'),\n",
       " Row(date='1996-08-24'),\n",
       " Row(date='1998-07-07'),\n",
       " Row(date='1998-05-05'),\n",
       " Row(date='1996-07-31'),\n",
       " Row(date='1997-06-16'),\n",
       " Row(date='1995-01-31'),\n",
       " Row(date='1998-11-30'),\n",
       " Row(date='1997-11-13'),\n",
       " Row(date='1998-07-02'),\n",
       " Row(date='1998-08-31'),\n",
       " Row(date='1998-07-05'),\n",
       " Row(date='1994-01-31'),\n",
       " Row(date='1994-04-10'),\n",
       " Row(date='1997-10-15'),\n",
       " Row(date='1998-04-14'),\n",
       " Row(date='1994-12-05'),\n",
       " Row(date='1994-10-05'),\n",
       " Row(date='1996-05-13'),\n",
       " Row(date='1998-03-31'),\n",
       " Row(date='1997-03-11'),\n",
       " Row(date='1997-06-30'),\n",
       " Row(date='1995-02-26'),\n",
       " Row(date='1993-10-10'),\n",
       " Row(date='1997-02-09'),\n",
       " Row(date='1997-03-09'),\n",
       " Row(date='1995-06-30'),\n",
       " Row(date='1997-10-14'),\n",
       " Row(date='1997-07-28'),\n",
       " Row(date='1995-12-31'),\n",
       " Row(date='1995-11-30'),\n",
       " Row(date='1995-06-06'),\n",
       " Row(date='1998-06-06'),\n",
       " Row(date='1995-11-06'),\n",
       " Row(date='1998-03-08'),\n",
       " Row(date='1996-01-12'),\n",
       " Row(date='1994-01-08'),\n",
       " Row(date='1994-01-07'),\n",
       " Row(date='1998-10-31'),\n",
       " Row(date='1998-09-22'),\n",
       " Row(date='1996-11-30'),\n",
       " Row(date='1997-10-31'),\n",
       " Row(date='1995-11-30'),\n",
       " Row(date='1998-09-16'),\n",
       " Row(date='1997-04-30'),\n",
       " Row(date='1998-12-20'),\n",
       " Row(date='1993-09-02'),\n",
       " Row(date='1998-02-11'),\n",
       " Row(date='1994-10-31'),\n",
       " Row(date='1996-09-30'),\n",
       " Row(date='1996-02-29'),\n",
       " Row(date='1996-01-26'),\n",
       " Row(date='1997-04-10'),\n",
       " Row(date='1995-04-21'),\n",
       " Row(date='1998-10-31'),\n",
       " Row(date='1994-12-14'),\n",
       " Row(date='1998-10-12'),\n",
       " Row(date='1997-09-09'),\n",
       " Row(date='1996-01-14'),\n",
       " Row(date='1998-02-25'),\n",
       " Row(date='1998-06-09'),\n",
       " Row(date='1998-03-08'),\n",
       " Row(date='1998-05-21'),\n",
       " Row(date='1996-09-30'),\n",
       " Row(date='1998-01-11'),\n",
       " Row(date='1997-05-08'),\n",
       " Row(date='1995-11-07'),\n",
       " Row(date='1996-04-30'),\n",
       " Row(date='1994-09-06'),\n",
       " Row(date='1997-07-31'),\n",
       " Row(date='1995-03-16'),\n",
       " Row(date='1997-07-13'),\n",
       " Row(date='1997-04-11'),\n",
       " Row(date='1998-01-31'),\n",
       " Row(date='1997-12-31'),\n",
       " Row(date='1998-02-05'),\n",
       " Row(date='1998-03-31'),\n",
       " Row(date='1998-09-30'),\n",
       " Row(date='1998-01-29'),\n",
       " Row(date='1998-03-10'),\n",
       " Row(date='1998-08-31'),\n",
       " Row(date='1998-04-25'),\n",
       " Row(date='1995-03-31'),\n",
       " Row(date='1998-10-11'),\n",
       " Row(date='1998-04-30'),\n",
       " Row(date='1996-07-07'),\n",
       " Row(date='1997-08-14'),\n",
       " Row(date='1994-01-27'),\n",
       " Row(date='1998-04-30'),\n",
       " Row(date='1997-01-29'),\n",
       " Row(date='1998-01-31'),\n",
       " Row(date='1998-07-08'),\n",
       " Row(date='1993-06-21'),\n",
       " Row(date='1997-10-06'),\n",
       " Row(date='1998-09-06'),\n",
       " Row(date='1996-11-05'),\n",
       " Row(date='1998-11-06'),\n",
       " Row(date='1996-06-24'),\n",
       " Row(date='1996-10-24'),\n",
       " Row(date='1998-09-04'),\n",
       " Row(date='1998-09-30'),\n",
       " Row(date='1995-04-11'),\n",
       " Row(date='1998-07-16'),\n",
       " Row(date='1997-02-06'),\n",
       " Row(date='1996-02-05'),\n",
       " Row(date='1998-06-30'),\n",
       " Row(date='1997-12-23'),\n",
       " Row(date='1994-02-28'),\n",
       " Row(date='1997-05-12'),\n",
       " Row(date='1998-02-28'),\n",
       " Row(date='1996-08-31'),\n",
       " Row(date='1995-05-07'),\n",
       " Row(date='1993-12-11'),\n",
       " Row(date='1996-10-31'),\n",
       " Row(date='1998-04-06'),\n",
       " Row(date='1998-04-30'),\n",
       " Row(date='1997-01-31'),\n",
       " Row(date='1997-04-05'),\n",
       " Row(date='1998-11-30'),\n",
       " Row(date='1998-04-30'),\n",
       " Row(date='1998-01-31'),\n",
       " Row(date='1995-06-05'),\n",
       " Row(date='1998-02-09'),\n",
       " Row(date='1998-02-05'),\n",
       " Row(date='1996-11-30'),\n",
       " Row(date='1996-02-29'),\n",
       " Row(date='1996-10-20'),\n",
       " Row(date='1997-02-28'),\n",
       " Row(date='1998-08-21'),\n",
       " Row(date='1997-12-11'),\n",
       " Row(date='1997-05-31'),\n",
       " Row(date='1998-09-08'),\n",
       " Row(date='1997-12-28'),\n",
       " Row(date='1997-04-26'),\n",
       " Row(date='1996-08-29'),\n",
       " Row(date='1998-04-07'),\n",
       " Row(date='1995-01-06'),\n",
       " Row(date='1998-09-30'),\n",
       " Row(date='1996-07-13'),\n",
       " Row(date='1998-04-30'),\n",
       " Row(date='1996-09-03'),\n",
       " Row(date='1997-04-10'),\n",
       " Row(date='1994-01-13'),\n",
       " Row(date='1996-07-10'),\n",
       " Row(date='1996-05-12'),\n",
       " Row(date='1996-11-30'),\n",
       " Row(date='1998-07-31'),\n",
       " Row(date='1993-09-12'),\n",
       " Row(date='1996-08-31'),\n",
       " Row(date='1996-03-31'),\n",
       " Row(date='1998-04-30'),\n",
       " Row(date='1997-05-31'),\n",
       " Row(date='1995-01-31'),\n",
       " Row(date='1997-04-21'),\n",
       " Row(date='1998-11-30'),\n",
       " Row(date='1996-03-30'),\n",
       " Row(date='1996-09-13'),\n",
       " Row(date='1993-09-05'),\n",
       " Row(date='1997-10-18'),\n",
       " Row(date='1997-04-10'),\n",
       " Row(date='1996-11-30'),\n",
       " Row(date='1996-05-11'),\n",
       " Row(date='1998-06-12'),\n",
       " Row(date='1997-12-31'),\n",
       " Row(date='1997-12-31'),\n",
       " Row(date='1998-11-30'),\n",
       " Row(date='1997-04-18'),\n",
       " Row(date='1996-06-05'),\n",
       " Row(date='1996-04-28'),\n",
       " Row(date='1997-05-11'),\n",
       " Row(date='1997-12-10'),\n",
       " Row(date='1997-09-06'),\n",
       " Row(date='1997-08-31'),\n",
       " Row(date='1995-05-13'),\n",
       " Row(date='1996-09-30'),\n",
       " Row(date='1998-07-01'),\n",
       " Row(date='1998-01-09'),\n",
       " Row(date='1993-10-31'),\n",
       " Row(date='1997-09-30'),\n",
       " Row(date='1998-07-12'),\n",
       " Row(date='1998-08-11'),\n",
       " Row(date='1995-11-12'),\n",
       " Row(date='1998-08-12'),\n",
       " Row(date='1996-08-09'),\n",
       " Row(date='1998-10-14'),\n",
       " Row(date='1997-11-30'),\n",
       " Row(date='1996-08-12'),\n",
       " Row(date='1998-06-18'),\n",
       " Row(date='1998-04-30'),\n",
       " Row(date='1996-03-06'),\n",
       " Row(date='1998-11-12'),\n",
       " Row(date='1998-10-31'),\n",
       " Row(date='1994-11-10'),\n",
       " Row(date='1997-05-31'),\n",
       " Row(date='1997-10-09'),\n",
       " Row(date='1997-03-31'),\n",
       " Row(date='1995-08-23'),\n",
       " Row(date='1997-04-20'),\n",
       " Row(date='1998-03-31'),\n",
       " Row(date='1995-05-31'),\n",
       " Row(date='1997-10-14'),\n",
       " Row(date='1995-02-05'),\n",
       " Row(date='1995-10-08'),\n",
       " Row(date='1993-10-04'),\n",
       " Row(date='1998-07-12'),\n",
       " Row(date='1995-09-30'),\n",
       " Row(date='1995-03-10'),\n",
       " Row(date='1998-10-08'),\n",
       " Row(date='1995-11-06'),\n",
       " Row(date='1995-03-31'),\n",
       " Row(date='1998-09-07'),\n",
       " Row(date='1997-01-10'),\n",
       " Row(date='1996-05-31'),\n",
       " Row(date='1996-06-17'),\n",
       " Row(date='1997-12-31'),\n",
       " Row(date='1998-11-23'),\n",
       " Row(date='1996-08-31'),\n",
       " Row(date='1995-10-29'),\n",
       " Row(date='1998-10-31'),\n",
       " Row(date='1997-09-08'),\n",
       " Row(date='1998-10-31'),\n",
       " Row(date='1996-01-04'),\n",
       " Row(date='1996-02-29'),\n",
       " Row(date='1998-05-03'),\n",
       " Row(date='1997-07-07'),\n",
       " Row(date='1997-05-25'),\n",
       " Row(date='1995-01-10'),\n",
       " Row(date='1995-11-30'),\n",
       " Row(date='1997-09-30'),\n",
       " Row(date='1997-12-05'),\n",
       " Row(date='1994-04-12'),\n",
       " Row(date='1995-04-23'),\n",
       " Row(date='1997-09-14'),\n",
       " Row(date='1996-11-30'),\n",
       " Row(date='1997-06-03'),\n",
       " Row(date='1995-09-08'),\n",
       " Row(date='1997-01-19'),\n",
       " Row(date='1996-06-07'),\n",
       " Row(date='1997-10-15'),\n",
       " Row(date='1998-09-14'),\n",
       " Row(date='1998-11-07'),\n",
       " Row(date='1996-08-14'),\n",
       " Row(date='1995-06-05'),\n",
       " Row(date='1996-01-12'),\n",
       " Row(date='1994-02-07'),\n",
       " Row(date='1996-06-30'),\n",
       " Row(date='1997-11-30'),\n",
       " Row(date='1998-11-09'),\n",
       " Row(date='1998-01-09'),\n",
       " Row(date='1998-07-22'),\n",
       " Row(date='1997-03-31'),\n",
       " Row(date='1998-01-07'),\n",
       " Row(date='1997-12-31'),\n",
       " Row(date='1998-09-30'),\n",
       " Row(date='1996-06-30'),\n",
       " Row(date='1993-10-31'),\n",
       " Row(date='1998-02-28'),\n",
       " Row(date='1997-01-31'),\n",
       " Row(date='1998-12-11'),\n",
       " Row(date='1997-05-11'),\n",
       " Row(date='1998-08-31'),\n",
       " Row(date='1996-04-30'),\n",
       " Row(date='1998-02-05'),\n",
       " Row(date='1996-03-06'),\n",
       " Row(date='1998-06-06'),\n",
       " Row(date='1995-09-23'),\n",
       " Row(date='1997-11-08'),\n",
       " Row(date='1997-03-31'),\n",
       " Row(date='1998-11-14'),\n",
       " Row(date='1995-12-05'),\n",
       " Row(date='1998-02-28'),\n",
       " Row(date='1996-04-05'),\n",
       " Row(date='1994-12-31'),\n",
       " Row(date='1996-06-12'),\n",
       " Row(date='1996-03-28'),\n",
       " Row(date='1998-03-08'),\n",
       " Row(date='1998-01-10'),\n",
       " Row(date='1998-05-05'),\n",
       " Row(date='1994-08-11'),\n",
       " Row(date='1997-07-31'),\n",
       " Row(date='1998-12-13'),\n",
       " Row(date='1998-09-06'),\n",
       " Row(date='1998-11-10'),\n",
       " Row(date='1995-03-13'),\n",
       " Row(date='1998-04-30'),\n",
       " Row(date='1997-01-20'),\n",
       " Row(date='1996-09-09'),\n",
       " Row(date='1996-12-31'),\n",
       " Row(date='1995-05-14'),\n",
       " Row(date='1998-10-11'),\n",
       " Row(date='1993-06-30'),\n",
       " Row(date='1998-07-31'),\n",
       " Row(date='1993-10-07'),\n",
       " Row(date='1998-02-10'),\n",
       " Row(date='1996-08-06'),\n",
       " Row(date='1994-10-10'),\n",
       " Row(date='1997-06-30'),\n",
       " Row(date='1998-01-12'),\n",
       " Row(date='1997-02-10'),\n",
       " Row(date='1998-09-06'),\n",
       " Row(date='1997-06-15'),\n",
       " Row(date='1997-03-31'),\n",
       " Row(date='1995-11-09'),\n",
       " Row(date='1997-12-17'),\n",
       " Row(date='1995-02-13'),\n",
       " Row(date='1994-01-01'),\n",
       " Row(date='1998-09-24'),\n",
       " Row(date='1997-07-05'),\n",
       " Row(date='1997-09-07'),\n",
       " Row(date='1997-08-31'),\n",
       " Row(date='1996-11-12'),\n",
       " Row(date='1998-04-19'),\n",
       " Row(date='1998-05-12'),\n",
       " Row(date='1995-08-14'),\n",
       " Row(date='1997-01-14'),\n",
       " Row(date='1998-01-29'),\n",
       " Row(date='1998-07-31'),\n",
       " Row(date='1996-03-08'),\n",
       " Row(date='1997-06-06'),\n",
       " Row(date='1995-05-31'),\n",
       " Row(date='1997-12-06'),\n",
       " Row(date='1994-10-31'),\n",
       " Row(date='1998-07-05'),\n",
       " Row(date='1998-08-31'),\n",
       " Row(date='1995-12-31'),\n",
       " Row(date='1997-01-08'),\n",
       " Row(date='1996-12-27'),\n",
       " Row(date='1996-04-06'),\n",
       " Row(date='1997-11-09'),\n",
       " Row(date='1997-06-09'),\n",
       " Row(date='1997-12-16'),\n",
       " Row(date='1997-05-31'),\n",
       " Row(date='1998-05-10'),\n",
       " Row(date='1998-12-06'),\n",
       " Row(date='1997-03-10'),\n",
       " Row(date='1996-12-21'),\n",
       " Row(date='1996-12-18'),\n",
       " Row(date='1996-09-30'),\n",
       " Row(date='1998-06-16'),\n",
       " Row(date='1994-04-06'),\n",
       " Row(date='1998-09-07'),\n",
       " Row(date='1998-08-05'),\n",
       " Row(date='1995-09-30'),\n",
       " Row(date='1996-04-27'),\n",
       " Row(date='1997-07-31'),\n",
       " Row(date='1998-04-04'),\n",
       " Row(date='1997-06-13'),\n",
       " Row(date='1997-05-31'),\n",
       " Row(date='1998-12-07'),\n",
       " Row(date='1996-12-31'),\n",
       " Row(date='1998-03-04'),\n",
       " Row(date='1998-11-21'),\n",
       " Row(date='1998-01-13'),\n",
       " Row(date='1997-10-31'),\n",
       " Row(date='1998-04-22'),\n",
       " Row(date='1994-09-06'),\n",
       " Row(date='1997-01-13'),\n",
       " Row(date='1996-02-29'),\n",
       " Row(date='1995-06-08'),\n",
       " Row(date='1998-10-31'),\n",
       " Row(date='1998-12-31'),\n",
       " Row(date='1996-01-19'),\n",
       " Row(date='1998-10-18'),\n",
       " Row(date='1995-10-21'),\n",
       " Row(date='1995-11-05'),\n",
       " Row(date='1998-12-16'),\n",
       " Row(date='1996-02-29'),\n",
       " Row(date='1994-01-18'),\n",
       " Row(date='1997-11-08'),\n",
       " Row(date='1997-11-12'),\n",
       " Row(date='1996-09-02'),\n",
       " Row(date='1997-11-05'),\n",
       " Row(date='1997-12-26'),\n",
       " Row(date='1995-11-30'),\n",
       " Row(date='1996-11-12'),\n",
       " Row(date='1994-01-31'),\n",
       " Row(date='1997-03-03'),\n",
       " Row(date='1995-11-30'),\n",
       " Row(date='1998-12-08'),\n",
       " Row(date='1997-11-30'),\n",
       " Row(date='1996-03-05'),\n",
       " Row(date='1996-12-31'),\n",
       " Row(date='1998-10-31'),\n",
       " Row(date='1998-03-31'),\n",
       " Row(date='1995-10-28'),\n",
       " Row(date='1995-11-02'),\n",
       " Row(date='1996-10-31'),\n",
       " Row(date='1995-07-07'),\n",
       " Row(date='1997-05-12'),\n",
       " Row(date='1997-08-31'),\n",
       " Row(date='1996-11-30'),\n",
       " Row(date='1995-07-12'),\n",
       " Row(date='1996-11-08'),\n",
       " Row(date='1994-06-30'),\n",
       " Row(date='1994-11-30'),\n",
       " Row(date='1994-07-07'),\n",
       " Row(date='1996-05-11'),\n",
       " Row(date='1997-04-30'),\n",
       " Row(date='1997-06-10'),\n",
       " Row(date='1997-10-31'),\n",
       " Row(date='1998-12-07'),\n",
       " Row(date='1997-02-08'),\n",
       " Row(date='1996-06-30'),\n",
       " Row(date='1996-12-02'),\n",
       " Row(date='1994-10-31'),\n",
       " Row(date='1998-11-06'),\n",
       " Row(date='1997-07-09'),\n",
       " Row(date='1995-10-31'),\n",
       " Row(date='1998-01-29'),\n",
       " Row(date='1996-07-05'),\n",
       " Row(date='1998-09-12'),\n",
       " Row(date='1997-11-07'),\n",
       " Row(date='1997-06-08'),\n",
       " Row(date='1997-05-17'),\n",
       " Row(date='1997-02-20'),\n",
       " Row(date='1996-09-30'),\n",
       " Row(date='1994-09-12'),\n",
       " Row(date='1998-10-31'),\n",
       " Row(date='1998-10-12'),\n",
       " Row(date='1995-12-03'),\n",
       " Row(date='1995-04-30'),\n",
       " Row(date='1997-09-13'),\n",
       " Row(date='1997-11-08'),\n",
       " Row(date='1998-07-08'),\n",
       " Row(date='1998-01-20'),\n",
       " Row(date='1998-11-12'),\n",
       " Row(date='1998-06-08'),\n",
       " Row(date='1998-12-31'),\n",
       " Row(date='1994-03-08'),\n",
       " Row(date='1997-01-22'),\n",
       " Row(date='1997-10-08'),\n",
       " Row(date='1994-05-15'),\n",
       " Row(date='1997-05-12'),\n",
       " Row(date='1998-06-06'),\n",
       " Row(date='1995-12-01'),\n",
       " Row(date='1994-11-30'),\n",
       " Row(date='1997-07-11'),\n",
       " Row(date='1994-12-12'),\n",
       " Row(date='1994-04-30'),\n",
       " Row(date='1998-03-08'),\n",
       " Row(date='1998-01-30'),\n",
       " Row(date='1997-11-30'),\n",
       " Row(date='1993-11-05'),\n",
       " Row(date='1997-01-24'),\n",
       " Row(date='1995-02-28'),\n",
       " Row(date='1997-12-08'),\n",
       " Row(date='1996-01-31'),\n",
       " Row(date='1994-09-30'),\n",
       " Row(date='1997-07-31'),\n",
       " Row(date='1998-04-08'),\n",
       " Row(date='1996-01-08'),\n",
       " Row(date='1998-12-09'),\n",
       " Row(date='1998-03-05'),\n",
       " Row(date='1998-01-10'),\n",
       " Row(date='1994-06-08'),\n",
       " Row(date='1994-06-17'),\n",
       " Row(date='1994-04-30'),\n",
       " Row(date='1996-09-06'),\n",
       " Row(date='1995-04-28'),\n",
       " Row(date='1998-02-28'),\n",
       " Row(date='1994-02-08'),\n",
       " Row(date='1997-08-22'),\n",
       " Row(date='1998-04-30'),\n",
       " Row(date='1996-04-17'),\n",
       " Row(date='1998-11-19'),\n",
       " Row(date='1998-09-30'),\n",
       " Row(date='1998-12-06'),\n",
       " Row(date='1998-05-31'),\n",
       " Row(date='1997-09-30'),\n",
       " Row(date='1996-06-13'),\n",
       " Row(date='1994-04-30'),\n",
       " Row(date='1997-04-30'),\n",
       " Row(date='1998-04-30'),\n",
       " Row(date='1996-03-31'),\n",
       " Row(date='1995-09-30'),\n",
       " Row(date='1996-11-30'),\n",
       " Row(date='1996-02-07'),\n",
       " Row(date='1997-10-31'),\n",
       " Row(date='1998-08-31'),\n",
       " Row(date='1994-08-31'),\n",
       " Row(date='1998-06-10'),\n",
       " Row(date='1997-11-30'),\n",
       " Row(date='1994-02-28'),\n",
       " Row(date='1998-12-12'),\n",
       " Row(date='1995-06-30'),\n",
       " Row(date='1997-05-31'),\n",
       " Row(date='1994-04-06'),\n",
       " Row(date='1998-03-31'),\n",
       " Row(date='1996-06-05'),\n",
       " Row(date='1997-08-07'),\n",
       " Row(date='1994-12-31'),\n",
       " Row(date='1994-04-11'),\n",
       " Row(date='1993-12-11'),\n",
       " Row(date='1995-04-12'),\n",
       " Row(date='1995-02-28'),\n",
       " Row(date='1998-02-28'),\n",
       " Row(date='1998-01-16'),\n",
       " Row(date='1994-05-12'),\n",
       " Row(date='1998-12-27'),\n",
       " Row(date='1997-07-31'),\n",
       " Row(date='1998-04-09'),\n",
       " Row(date='1997-06-06'),\n",
       " Row(date='1998-01-09'),\n",
       " Row(date='1998-09-07'),\n",
       " Row(date='1998-08-31'),\n",
       " Row(date='1998-10-31'),\n",
       " Row(date='1996-02-05'),\n",
       " Row(date='1998-07-31'),\n",
       " Row(date='1997-03-12'),\n",
       " Row(date='1997-06-05'),\n",
       " Row(date='1993-08-09'),\n",
       " Row(date='1993-05-15'),\n",
       " Row(date='1996-01-19'),\n",
       " Row(date='1995-09-30'),\n",
       " Row(date='1994-10-15'),\n",
       " Row(date='1997-12-11'),\n",
       " Row(date='1998-07-09'),\n",
       " Row(date='1998-04-30'),\n",
       " Row(date='1998-02-09'),\n",
       " Row(date='1998-01-08'),\n",
       " Row(date='1998-08-13'),\n",
       " Row(date='1996-02-29'),\n",
       " Row(date='1998-04-30'),\n",
       " Row(date='1997-01-31'),\n",
       " Row(date='1997-01-28'),\n",
       " Row(date='1994-12-31'),\n",
       " Row(date='1994-04-10'),\n",
       " Row(date='1997-01-05'),\n",
       " Row(date='1995-05-07'),\n",
       " Row(date='1998-03-31'),\n",
       " Row(date='1994-01-11'),\n",
       " Row(date='1998-06-19'),\n",
       " Row(date='1998-03-31'),\n",
       " Row(date='1994-01-24'),\n",
       " Row(date='1997-07-31'),\n",
       " Row(date='1998-11-30'),\n",
       " Row(date='1998-11-14'),\n",
       " Row(date='1996-02-05'),\n",
       " Row(date='1997-10-29'),\n",
       " Row(date='1998-09-07'),\n",
       " Row(date='1998-02-28'),\n",
       " Row(date='1995-02-28'),\n",
       " Row(date='1995-11-30'),\n",
       " Row(date='1993-09-29'),\n",
       " Row(date='1998-03-31'),\n",
       " Row(date='1996-04-08'),\n",
       " Row(date='1997-07-08'),\n",
       " Row(date='1995-07-12'),\n",
       " Row(date='1998-11-30'),\n",
       " Row(date='1998-10-31'),\n",
       " Row(date='1998-08-03'),\n",
       " Row(date='1994-02-28'),\n",
       " Row(date='1993-10-31'),\n",
       " Row(date='1998-02-03'),\n",
       " Row(date='1995-05-06'),\n",
       " Row(date='1998-07-05'),\n",
       " Row(date='1997-11-07'),\n",
       " Row(date='1997-07-31'),\n",
       " Row(date='1998-06-30'),\n",
       " Row(date='1996-08-13'),\n",
       " Row(date='1997-03-31'),\n",
       " Row(date='1998-07-13'),\n",
       " Row(date='1998-04-12'),\n",
       " Row(date='1994-03-14'),\n",
       " Row(date='1998-07-31'),\n",
       " Row(date='1994-10-31'),\n",
       " Row(date='1996-05-12'),\n",
       " Row(date='1998-08-31'),\n",
       " Row(date='1995-06-07'),\n",
       " Row(date='1998-01-12'),\n",
       " Row(date='1998-09-28'),\n",
       " Row(date='1998-07-28'),\n",
       " Row(date='1997-12-16'),\n",
       " Row(date='1998-11-01'),\n",
       " Row(date='1998-06-30'),\n",
       " Row(date='1998-03-09'),\n",
       " Row(date='1996-08-31'),\n",
       " Row(date='1996-04-27'),\n",
       " Row(date='1995-11-13'),\n",
       " Row(date='1998-04-30'),\n",
       " Row(date='1998-07-31'),\n",
       " Row(date='1998-12-10'),\n",
       " Row(date='1998-01-24'),\n",
       " Row(date='1998-07-11'),\n",
       " Row(date='1998-03-31'),\n",
       " Row(date='1997-01-31'),\n",
       " Row(date='1995-02-28'),\n",
       " Row(date='1996-04-15'),\n",
       " Row(date='1998-02-12'),\n",
       " Row(date='1997-08-06'),\n",
       " Row(date='1998-12-11'),\n",
       " Row(date='1998-04-30'),\n",
       " Row(date='1998-11-08'),\n",
       " Row(date='1996-11-14'),\n",
       " Row(date='1997-05-12'),\n",
       " Row(date='1995-01-31'),\n",
       " Row(date='1995-04-20'),\n",
       " Row(date='1994-08-05'),\n",
       " Row(date='1997-11-08'),\n",
       " Row(date='1998-03-02'),\n",
       " Row(date='1997-03-02'),\n",
       " Row(date='1996-08-12'),\n",
       " Row(date='1998-01-11'),\n",
       " Row(date='1998-01-10'),\n",
       " Row(date='1997-04-20'),\n",
       " Row(date='1997-07-15'),\n",
       " Row(date='1997-06-02'),\n",
       " Row(date='1998-08-31'),\n",
       " Row(date='1998-04-30'),\n",
       " Row(date='1996-03-30'),\n",
       " Row(date='1998-01-10'),\n",
       " Row(date='1995-09-30'),\n",
       " Row(date='1998-01-23'),\n",
       " Row(date='1997-03-15'),\n",
       " Row(date='1995-05-05'),\n",
       " Row(date='1997-07-31'),\n",
       " Row(date='1997-12-05'),\n",
       " Row(date='1997-11-30'),\n",
       " Row(date='1997-08-13'),\n",
       " Row(date='1997-07-28'),\n",
       " Row(date='1995-04-30'),\n",
       " Row(date='1998-09-17'),\n",
       " Row(date='1995-10-13'),\n",
       " Row(date='1993-08-31'),\n",
       " Row(date='1998-12-09'),\n",
       " Row(date='1995-02-11'),\n",
       " Row(date='1998-12-31'),\n",
       " Row(date='1994-08-31'),\n",
       " Row(date='1996-06-05'),\n",
       " Row(date='1997-05-31'),\n",
       " Row(date='1998-05-25'),\n",
       " Row(date='1998-04-26'),\n",
       " Row(date='1993-10-31'),\n",
       " Row(date='1996-10-20'),\n",
       " Row(date='1997-01-27'),\n",
       " Row(date='1994-11-08'),\n",
       " Row(date='1997-01-31'),\n",
       " Row(date='1997-09-23'),\n",
       " Row(date='1995-05-15'),\n",
       " Row(date='1998-07-19'),\n",
       " Row(date='1998-04-30'),\n",
       " Row(date='1993-04-29'),\n",
       " Row(date='1997-08-08'),\n",
       " Row(date='1997-10-06'),\n",
       " Row(date='1998-01-23'),\n",
       " Row(date='1997-06-07'),\n",
       " Row(date='1997-05-13'),\n",
       " Row(date='1993-12-31'),\n",
       " Row(date='1994-10-12'),\n",
       " Row(date='1998-01-05'),\n",
       " Row(date='1996-09-30'),\n",
       " Row(date='1997-09-30'),\n",
       " Row(date='1996-10-31'),\n",
       " Row(date='1996-12-06'),\n",
       " Row(date='1998-06-26'),\n",
       " Row(date='1998-04-24'),\n",
       " Row(date='1996-02-08'),\n",
       " Row(date='1995-07-28'),\n",
       " Row(date='1993-10-31'),\n",
       " Row(date='1998-12-05'),\n",
       " Row(date='1994-07-31'),\n",
       " Row(date='1998-11-19'),\n",
       " Row(date='1997-06-05'),\n",
       " Row(date='1998-12-14'),\n",
       " Row(date='1996-07-31'),\n",
       " Row(date='1998-02-28'),\n",
       " Row(date='1995-07-31'),\n",
       " Row(date='1997-03-31'),\n",
       " Row(date='1997-01-10'),\n",
       " Row(date='1997-08-02'),\n",
       " Row(date='1997-12-08'),\n",
       " Row(date='1996-01-23'),\n",
       " Row(date='1994-06-30'),\n",
       " Row(date='1996-02-29'),\n",
       " Row(date='1998-12-31'),\n",
       " Row(date='1998-02-14'),\n",
       " Row(date='1998-04-30'),\n",
       " Row(date='1998-03-06'),\n",
       " Row(date='1997-09-21'),\n",
       " Row(date='1995-08-09'),\n",
       " Row(date='1997-01-31'),\n",
       " Row(date='1998-06-09'),\n",
       " Row(date='1998-05-06'),\n",
       " Row(date='1996-05-31'),\n",
       " Row(date='1998-10-31'),\n",
       " Row(date='1997-11-07'),\n",
       " Row(date='1994-11-04'),\n",
       " Row(date='1994-10-31'),\n",
       " Row(date='1998-07-20'),\n",
       " Row(date='1994-09-12'),\n",
       " Row(date='1997-10-07'),\n",
       " Row(date='1997-03-11'),\n",
       " Row(date='1997-12-06'),\n",
       " Row(date='1997-08-22'),\n",
       " Row(date='1995-01-16'),\n",
       " Row(date='1995-10-09'),\n",
       " Row(date='1996-12-31'),\n",
       " Row(date='1998-01-17'),\n",
       " Row(date='1994-08-31'),\n",
       " Row(date='1998-02-28'),\n",
       " Row(date='1997-06-30'),\n",
       " Row(date='1998-02-23'),\n",
       " Row(date='1998-01-06'),\n",
       " Row(date='1995-06-14'),\n",
       " Row(date='1997-03-05'),\n",
       " Row(date='1996-04-30'),\n",
       " Row(date='1994-05-31'),\n",
       " Row(date='1998-10-31'),\n",
       " Row(date='1998-01-10'),\n",
       " Row(date='1996-01-08'),\n",
       " Row(date='1997-04-16'),\n",
       " Row(date='1995-05-31'),\n",
       " Row(date='1998-06-13'),\n",
       " Row(date='1994-05-05'),\n",
       " Row(date='1997-01-13'),\n",
       " Row(date='1996-05-27'),\n",
       " Row(date='1993-10-10'),\n",
       " Row(date='1997-06-30'),\n",
       " Row(date='1998-07-31'),\n",
       " Row(date='1995-08-08'),\n",
       " Row(date='1998-01-06'),\n",
       " Row(date='1998-06-16'),\n",
       " Row(date='1994-09-06'),\n",
       " Row(date='1998-03-31'),\n",
       " Row(date='1998-01-14'),\n",
       " Row(date='1996-09-30'),\n",
       " Row(date='1994-10-15'),\n",
       " Row(date='1997-12-31'),\n",
       " Row(date='1994-08-31'),\n",
       " Row(date='1997-11-12'),\n",
       " Row(date='1997-03-31'),\n",
       " Row(date='1997-04-06'),\n",
       " Row(date='1998-01-31'),\n",
       " ...]"
      ]
     },
     "execution_count": 4,
     "metadata": {},
     "output_type": "execute_result"
    }
   ],
   "source": [
    "# dates are of string type\n",
    "trans_df.select('date').collect()"
   ]
  },
  {
   "cell_type": "code",
   "execution_count": 5,
   "metadata": {},
   "outputs": [
    {
     "data": {
      "text/plain": [
       "1056410"
      ]
     },
     "execution_count": 5,
     "metadata": {},
     "output_type": "execute_result"
    }
   ],
   "source": [
    "# shape of trans file\n",
    "trans_df.count()"
   ]
  },
  {
   "cell_type": "code",
   "execution_count": 6,
   "metadata": {},
   "outputs": [
    {
     "data": {
      "text/plain": [
       "DataFrame[summary: string, trans_id: string, account_id: string, date: string, type: string, operation: string, amount: string, balance: string, k_symbol: string, branch: string, bank: string, account: string]"
      ]
     },
     "execution_count": 6,
     "metadata": {},
     "output_type": "execute_result"
    }
   ],
   "source": [
    "# list data types of trans\n",
    "trans_df.describe()"
   ]
  },
  {
   "cell_type": "code",
   "execution_count": 7,
   "metadata": {},
   "outputs": [
    {
     "data": {
      "text/plain": [
       "[Row(trans_id='967842', account_id='1532', date='1998-05-31', type='PRIJEM', operation=None, amount='253', balance='62661', k_symbol='UROK', branch='AR', bank=None, account='0'),\n",
       " Row(trans_id='271012', account_id='1499', date='1998-01-09', type='PRIJEM', operation='VKLAD', amount='5500', balance='49790', k_symbol=None, branch='AR', bank=None, account='0'),\n",
       " Row(trans_id='971490', account_id='1645', date='1996-11-30', type='PRIJEM', operation=None, amount='43', balance='19460', k_symbol='UROK', branch='AR', bank=None, account='0')]"
      ]
     },
     "execution_count": 7,
     "metadata": {},
     "output_type": "execute_result"
    }
   ],
   "source": [
    "trans_df.head(n=3)"
   ]
  },
  {
   "cell_type": "code",
   "execution_count": 8,
   "metadata": {},
   "outputs": [],
   "source": [
    "# cast the right types for some columns in trans_df\n",
    "from pyspark.sql.functions import to_date\n",
    "from pyspark.sql.types import IntegerType\n",
    "trans_df = trans_df.withColumn('date', to_date(trans_df.date, 'yyyy-MM-dd'))\n",
    "trans_df = trans_df.withColumn('balance', trans_df.balance.cast(IntegerType()))\n",
    "trans_df = trans_df.withColumn('amount', trans_df.amount.cast(IntegerType()))\n",
    "trans_df = trans_df.withColumn('account', trans_df.account.cast(IntegerType()))\n",
    "trans_df = trans_df.withColumn('trans_id', trans_df.trans_id.cast(IntegerType()))\n",
    "trans_df = trans_df.withColumn('account_id', trans_df.account_id.cast(IntegerType()))"
   ]
  },
  {
   "cell_type": "code",
   "execution_count": 9,
   "metadata": {
    "scrolled": false
   },
   "outputs": [
    {
     "name": "stdout",
     "output_type": "stream",
     "text": [
      "+--------+----------+----+------+-------------+------+-------+--------+------+----+--------+\n",
      "|trans_id|account_id|date|  type|    operation|amount|balance|k_symbol|branch|bank| account|\n",
      "+--------+----------+----+------+-------------+------+-------+--------+------+----+--------+\n",
      "|  525741|      2913|null|PRIJEM|PREVOD Z UCTU|  4471|  14604|  DUCHOD|    AK|  UV|21839374|\n",
      "|   76222|       411|null| VYDAJ|        VYBER|    15|  69989|  SLUZBY|    AK|null|       0|\n",
      "|  355590|      1962|null| VYDAJ|        VYBER| 11000|  44300|    null|    AK|null|       0|\n",
      "|  283673|      1566|null| VYDAJ|        VYBER|  3240|  20009|    null|    AK|null|       0|\n",
      "|  333397|      1836|null| VYDAJ|        VYBER|    15|  23532|  SLUZBY|    AK|null|       0|\n",
      "|  991314|      2258|null|PRIJEM|         null|   151|  38086|    UROK|    AK|null|       0|\n",
      "|   62601|       346|null| VYDAJ|        VYBER|    15|  42621|  SLUZBY|    AK|null|       0|\n",
      "|  592467|      3287|null| VYDAJ|        VYBER|  3000|  40696|    null|    AK|null|       0|\n",
      "| 1043167|      3878|null|PRIJEM|         null|    99|  22636|    UROK|    AK|null|       0|\n",
      "|   20970|       108|null| VYDAJ|        VYBER| 10500|  60420|    null|    AK|null|       0|\n",
      "+--------+----------+----+------+-------------+------+-------+--------+------+----+--------+\n",
      "only showing top 10 rows\n",
      "\n"
     ]
    }
   ],
   "source": [
    "# by ordering the data we can see that there are null values\n",
    "trans_df.orderBy('date').show(n=10)"
   ]
  },
  {
   "cell_type": "code",
   "execution_count": 10,
   "metadata": {},
   "outputs": [
    {
     "data": {
      "text/html": [
       "<div>\n",
       "<style scoped>\n",
       "    .dataframe tbody tr th:only-of-type {\n",
       "        vertical-align: middle;\n",
       "    }\n",
       "\n",
       "    .dataframe tbody tr th {\n",
       "        vertical-align: top;\n",
       "    }\n",
       "\n",
       "    .dataframe thead th {\n",
       "        text-align: right;\n",
       "    }\n",
       "</style>\n",
       "<table border=\"1\" class=\"dataframe\">\n",
       "  <thead>\n",
       "    <tr style=\"text-align: right;\">\n",
       "      <th></th>\n",
       "      <th>trans_id</th>\n",
       "      <th>account_id</th>\n",
       "      <th>date</th>\n",
       "      <th>type</th>\n",
       "      <th>operation</th>\n",
       "      <th>amount</th>\n",
       "      <th>balance</th>\n",
       "      <th>k_symbol</th>\n",
       "      <th>branch</th>\n",
       "      <th>bank</th>\n",
       "      <th>account</th>\n",
       "    </tr>\n",
       "  </thead>\n",
       "  <tbody>\n",
       "    <tr>\n",
       "      <th>0</th>\n",
       "      <td>0</td>\n",
       "      <td>0</td>\n",
       "      <td>3141</td>\n",
       "      <td>0</td>\n",
       "      <td>183126</td>\n",
       "      <td>0</td>\n",
       "      <td>0</td>\n",
       "      <td>535359</td>\n",
       "      <td>0</td>\n",
       "      <td>782875</td>\n",
       "      <td>0</td>\n",
       "    </tr>\n",
       "  </tbody>\n",
       "</table>\n",
       "</div>"
      ],
      "text/plain": [
       "   trans_id  account_id  date  type  operation  amount  balance  k_symbol  \\\n",
       "0         0           0  3141     0     183126       0        0    535359   \n",
       "\n",
       "   branch    bank  account  \n",
       "0       0  782875        0  "
      ]
     },
     "execution_count": 10,
     "metadata": {},
     "output_type": "execute_result"
    }
   ],
   "source": [
    "# number of null values for each column in trans_df\n",
    "import pyspark.sql.functions as F\n",
    "df = trans_df.select([F.count(F.when(F.isnull(c), c)).alias(c) for (c,c_type) in trans_df.dtypes]).toPandas()\n",
    "df"
   ]
  },
  {
   "cell_type": "code",
   "execution_count": 11,
   "metadata": {
    "scrolled": false
   },
   "outputs": [
    {
     "data": {
      "text/html": [
       "<div>\n",
       "<style scoped>\n",
       "    .dataframe tbody tr th:only-of-type {\n",
       "        vertical-align: middle;\n",
       "    }\n",
       "\n",
       "    .dataframe tbody tr th {\n",
       "        vertical-align: top;\n",
       "    }\n",
       "\n",
       "    .dataframe thead th {\n",
       "        text-align: right;\n",
       "    }\n",
       "</style>\n",
       "<table border=\"1\" class=\"dataframe\">\n",
       "  <thead>\n",
       "    <tr style=\"text-align: right;\">\n",
       "      <th></th>\n",
       "      <th>summary</th>\n",
       "      <th>trans_id</th>\n",
       "      <th>account_id</th>\n",
       "      <th>type</th>\n",
       "      <th>operation</th>\n",
       "      <th>amount</th>\n",
       "      <th>balance</th>\n",
       "      <th>k_symbol</th>\n",
       "      <th>branch</th>\n",
       "      <th>bank</th>\n",
       "      <th>account</th>\n",
       "    </tr>\n",
       "  </thead>\n",
       "  <tbody>\n",
       "    <tr>\n",
       "      <th>0</th>\n",
       "      <td>count</td>\n",
       "      <td>1056410</td>\n",
       "      <td>1056410</td>\n",
       "      <td>1056410</td>\n",
       "      <td>873284</td>\n",
       "      <td>1056410</td>\n",
       "      <td>1056410</td>\n",
       "      <td>521051</td>\n",
       "      <td>1056410</td>\n",
       "      <td>273535</td>\n",
       "      <td>1056410</td>\n",
       "    </tr>\n",
       "    <tr>\n",
       "      <th>1</th>\n",
       "      <td>mean</td>\n",
       "      <td>528203.844466637</td>\n",
       "      <td>2937.6251654187295</td>\n",
       "      <td>None</td>\n",
       "      <td>None</td>\n",
       "      <td>5924.133402750826</td>\n",
       "      <td>38519.28087579633</td>\n",
       "      <td>None</td>\n",
       "      <td>None</td>\n",
       "      <td>None</td>\n",
       "      <td>1.277151986812128E7</td>\n",
       "    </tr>\n",
       "    <tr>\n",
       "      <th>2</th>\n",
       "      <td>stddev</td>\n",
       "      <td>304958.79211414634</td>\n",
       "      <td>2478.6011779840896</td>\n",
       "      <td>None</td>\n",
       "      <td>None</td>\n",
       "      <td>9522.338864724921</td>\n",
       "      <td>22119.024295304254</td>\n",
       "      <td>None</td>\n",
       "      <td>None</td>\n",
       "      <td>None</td>\n",
       "      <td>2.6136224149202265E7</td>\n",
       "    </tr>\n",
       "    <tr>\n",
       "      <th>3</th>\n",
       "      <td>min</td>\n",
       "      <td>1</td>\n",
       "      <td>1</td>\n",
       "      <td>PRIJEM</td>\n",
       "      <td>PREVOD NA UCET</td>\n",
       "      <td>0</td>\n",
       "      <td>-41126</td>\n",
       "      <td>DUCHOD</td>\n",
       "      <td>AK</td>\n",
       "      <td>AB</td>\n",
       "      <td>0</td>\n",
       "    </tr>\n",
       "    <tr>\n",
       "      <th>4</th>\n",
       "      <td>max</td>\n",
       "      <td>1056406</td>\n",
       "      <td>12376</td>\n",
       "      <td>VYDAJ</td>\n",
       "      <td>VYBER KARTOU</td>\n",
       "      <td>87400</td>\n",
       "      <td>209637</td>\n",
       "      <td>UVER</td>\n",
       "      <td>AR</td>\n",
       "      <td>YZ</td>\n",
       "      <td>99994199</td>\n",
       "    </tr>\n",
       "  </tbody>\n",
       "</table>\n",
       "</div>"
      ],
      "text/plain": [
       "  summary            trans_id          account_id     type       operation  \\\n",
       "0   count             1056410             1056410  1056410          873284   \n",
       "1    mean    528203.844466637  2937.6251654187295     None            None   \n",
       "2  stddev  304958.79211414634  2478.6011779840896     None            None   \n",
       "3     min                   1                   1   PRIJEM  PREVOD NA UCET   \n",
       "4     max             1056406               12376    VYDAJ    VYBER KARTOU   \n",
       "\n",
       "              amount             balance k_symbol   branch    bank  \\\n",
       "0            1056410             1056410   521051  1056410  273535   \n",
       "1  5924.133402750826   38519.28087579633     None     None    None   \n",
       "2  9522.338864724921  22119.024295304254     None     None    None   \n",
       "3                  0              -41126   DUCHOD       AK      AB   \n",
       "4              87400              209637     UVER       AR      YZ   \n",
       "\n",
       "                account  \n",
       "0               1056410  \n",
       "1   1.277151986812128E7  \n",
       "2  2.6136224149202265E7  \n",
       "3                     0  \n",
       "4              99994199  "
      ]
     },
     "execution_count": 11,
     "metadata": {},
     "output_type": "execute_result"
    }
   ],
   "source": [
    "trans_df.describe().toPandas()"
   ]
  },
  {
   "cell_type": "code",
   "execution_count": 12,
   "metadata": {
    "scrolled": true
   },
   "outputs": [
    {
     "data": {
      "text/plain": [
       "['trans_id',\n",
       " 'account_id',\n",
       " 'date',\n",
       " 'type',\n",
       " 'operation',\n",
       " 'amount',\n",
       " 'balance',\n",
       " 'k_symbol',\n",
       " 'branch',\n",
       " 'bank',\n",
       " 'account']"
      ]
     },
     "execution_count": 12,
     "metadata": {},
     "output_type": "execute_result"
    }
   ],
   "source": [
    "[c[0] for c in trans_df.dtypes]"
   ]
  },
  {
   "cell_type": "code",
   "execution_count": 13,
   "metadata": {},
   "outputs": [
    {
     "name": "stdout",
     "output_type": "stream",
     "text": [
      "+-----------------+-----------------+\n",
      "|      avg(amount)|     avg(balance)|\n",
      "+-----------------+-----------------+\n",
      "|5924.133402750826|38519.28087579633|\n",
      "+-----------------+-----------------+\n",
      "\n"
     ]
    }
   ],
   "source": [
    "trans_df.agg({c[0]:'mean' for c in trans_df.dtypes if c[0] in ['amount', 'balance']}).show()"
   ]
  },
  {
   "cell_type": "code",
   "execution_count": 14,
   "metadata": {},
   "outputs": [
    {
     "name": "stdout",
     "output_type": "stream",
     "text": [
      "+-------------------+-------------------+\n",
      "|   variance(amount)|  variance(balance)|\n",
      "+-------------------+-------------------+\n",
      "|9.067493745465069E7|4.892512357762599E8|\n",
      "+-------------------+-------------------+\n",
      "\n"
     ]
    }
   ],
   "source": [
    "trans_df.agg({c[0]:'variance' for c in trans_df.dtypes if c[0] in ['amount', 'balance']}).show()"
   ]
  },
  {
   "cell_type": "code",
   "execution_count": 15,
   "metadata": {},
   "outputs": [
    {
     "name": "stdout",
     "output_type": "stream",
     "text": [
      "+-----------------+------------------+\n",
      "|   stddev(amount)|   stddev(balance)|\n",
      "+-----------------+------------------+\n",
      "|9522.338864724921|22119.024295304254|\n",
      "+-----------------+------------------+\n",
      "\n"
     ]
    }
   ],
   "source": [
    "trans_df.agg({c[0]:'stddev' for c in trans_df.dtypes if c[0] in ['amount', 'balance']}).show()"
   ]
  },
  {
   "cell_type": "code",
   "execution_count": 16,
   "metadata": {
    "scrolled": true
   },
   "outputs": [
    {
     "name": "stdout",
     "output_type": "stream",
     "text": [
      "+-----------+------------------+------------------+\n",
      "|   k_symbol|       avg(amount)|      avg(balance)|\n",
      "+-----------+------------------+------------------+\n",
      "|SANKC. UROK|23.928979074191503|5718.1915028535195|\n",
      "|       null|10240.607338253396| 41772.64050665068|\n",
      "|   POJISTNE|1307.0885309696248|38185.817371095014|\n",
      "|     DUCHOD|5520.3299713240385| 26046.94475757276|\n",
      "|       SIPO| 4222.497713414634| 34299.01213584011|\n",
      "|       UROK|150.28613086071886| 36124.61139870909|\n",
      "|     SLUZBY|18.213691721314632| 35768.78778409456|\n",
      "|       UVER| 4068.722921728886|42943.758338855754|\n",
      "+-----------+------------------+------------------+\n",
      "\n"
     ]
    }
   ],
   "source": [
    "# group by k_symbol and compute mean for amount and balance\n",
    "trans_df.groupby('k_symbol').agg({c : 'mean' for c in ['amount','balance']}).show()"
   ]
  },
  {
   "cell_type": "code",
   "execution_count": 17,
   "metadata": {},
   "outputs": [
    {
     "name": "stdout",
     "output_type": "stream",
     "text": [
      "+--------------+------------------+------------------+\n",
      "|     operation|       avg(amount)|      avg(balance)|\n",
      "+--------------+------------------+------------------+\n",
      "|         VKLAD| 15429.07301249091| 50108.41681870957|\n",
      "|          null|150.28613086071886| 36124.61139870909|\n",
      "| PREVOD Z UCTU|11980.681526904798|  35637.5822780929|\n",
      "|  VYBER KARTOU| 2262.753203134718| 53275.50454036572|\n",
      "|PREVOD NA UCET|3229.6256948911696| 35414.50213147965|\n",
      "|         VYBER| 5379.368026577462|36997.226377441344|\n",
      "+--------------+------------------+------------------+\n",
      "\n"
     ]
    }
   ],
   "source": [
    "# group by operation and compute mean for amount and balance\n",
    "trans_df.groupby('operation').agg({c : 'mean' for c in ['amount','balance']}).show()"
   ]
  },
  {
   "cell_type": "code",
   "execution_count": 18,
   "metadata": {},
   "outputs": [
    {
     "name": "stdout",
     "output_type": "stream",
     "text": [
      "+-----------+-------------------+--------------------+\n",
      "|   k_symbol|   variance(amount)|   variance(balance)|\n",
      "+-----------+-------------------+--------------------+\n",
      "|SANKC. UROK| 1733.8870848073025| 2.956178719582273E8|\n",
      "|       null|1.349928193069323E8| 5.728934863810161E8|\n",
      "|   POJISTNE|  3251455.143342864|  3.80090066428726E8|\n",
      "|     DUCHOD|  759463.6692483705| 9.345290301646177E7|\n",
      "|       SIPO|  8571979.218941402| 3.645850745211722E8|\n",
      "|       UROK|  7821.942035850668|3.9975076186920017E8|\n",
      "|     SLUZBY|  4692.558018701901|3.8557204912325495E8|\n",
      "|       UVER|  4733753.270571014|4.9975872357340646E8|\n",
      "+-----------+-------------------+--------------------+\n",
      "\n"
     ]
    }
   ],
   "source": [
    "# group by k_symbol and compute variance for amount and balance\n",
    "trans_df.groupby('k_symbol').agg({c : 'variance' for c in ['amount','balance']}).show()"
   ]
  },
  {
   "cell_type": "code",
   "execution_count": 19,
   "metadata": {
    "scrolled": true
   },
   "outputs": [
    {
     "name": "stdout",
     "output_type": "stream",
     "text": [
      "+--------------+--------------------+--------------------+\n",
      "|     operation|    variance(amount)|   variance(balance)|\n",
      "+--------------+--------------------+--------------------+\n",
      "|         VKLAD| 1.449866304715791E8| 8.017790174123753E8|\n",
      "|          null|   7821.942035850668|3.9975076186920017E8|\n",
      "| PREVOD Z UCTU|2.0003629259170008E8| 5.819190379782954E8|\n",
      "|  VYBER KARTOU|     1481541.6502059|4.0701607675809735E8|\n",
      "|PREVOD NA UCET|    7393501.14326321|3.8050036751418734E8|\n",
      "|         VYBER| 7.828976258703987E7| 3.909903831781573E8|\n",
      "+--------------+--------------------+--------------------+\n",
      "\n"
     ]
    }
   ],
   "source": [
    "# group by operation and compute variance for amount and balance\n",
    "trans_df.groupby('operation').agg({c : 'variance' for c in ['amount','balance']}).show()"
   ]
  },
  {
   "cell_type": "code",
   "execution_count": 20,
   "metadata": {},
   "outputs": [],
   "source": [
    "# cast types for account table\n",
    "account_df = account_df.withColumn('date', to_date(account_df.date, 'yyyy-MM-dd'))\n",
    "account_df = account_df.withColumn('district_id', account_df.district_id.cast(IntegerType()))\n",
    "account_df = account_df.withColumn('account_id', account_df.account_id.cast(IntegerType()))"
   ]
  },
  {
   "cell_type": "code",
   "execution_count": 21,
   "metadata": {},
   "outputs": [
    {
     "data": {
      "text/plain": [
       "DataFrame[account_id: int, district_id: int, frequency: string, date: date]"
      ]
     },
     "execution_count": 21,
     "metadata": {},
     "output_type": "execute_result"
    }
   ],
   "source": [
    "account_df"
   ]
  },
  {
   "cell_type": "code",
   "execution_count": 22,
   "metadata": {
    "scrolled": true
   },
   "outputs": [
    {
     "name": "stdout",
     "output_type": "stream",
     "text": [
      "+--------+----------+----------+------+--------------+------+-------+--------+------+----+--------+----------+-----------+----------------+----------+\n",
      "|trans_id|account_id|      date|  type|     operation|amount|balance|k_symbol|branch|bank| account|account_id|district_id|       frequency|      date|\n",
      "+--------+----------+----------+------+--------------+------+-------+--------+------+----+--------+----------+-----------+----------------+----------+\n",
      "|  967842|      1532|1998-05-31|PRIJEM|          null|   253|  62661|    UROK|    AR|null|       0|      1532|         54|POPLATEK MESICNE|1996-09-19|\n",
      "|  271012|      1499|1998-01-09|PRIJEM|         VKLAD|  5500|  49790|    null|    AR|null|       0|      1499|         47|POPLATEK MESICNE|1993-11-28|\n",
      "|  971490|      1645|1996-11-30|PRIJEM|          null|    43|  19460|    UROK|    AR|null|       0|      1645|         50|POPLATEK MESICNE|1996-10-16|\n",
      "|  605699|      3366|1996-10-28| VYDAJ|         VYBER|  9300|  38433|    null|    AR|null|       0|      3366|         68|POPLATEK MESICNE|1996-03-02|\n",
      "|  443107|      2471|1998-07-30| VYDAJ|         VYBER|  7800|  56237|    null|    AR|null|       0|      2471|          6|POPLATEK MESICNE|1994-07-03|\n",
      "|  627433|      3503|1995-06-07| VYDAJ|         VYBER| 28640|  41949|    null|    AR|null|       0|      3503|          1|POPLATEK MESICNE|1994-07-17|\n",
      "|  390740|      2162|1997-12-03|PRIJEM|         VKLAD| 11111|  38640|    null|    AR|null|       0|      2162|         50|POPLATEK MESICNE|1997-11-21|\n",
      "|  516014|      2861|1997-01-13| VYDAJ|PREVOD NA UCET|  2613|  25692|    SIPO|    AR|  GH|70139986|      2861|         38|POPLATEK MESICNE|1993-02-10|\n",
      "|  321504|      1782|1994-04-30| VYDAJ|         VYBER|   960|  25793|    null|    AR|null|       0|      1782|          8|POPLATEK MESICNE|1993-05-12|\n",
      "|  329984|      1823|1997-02-05|PRIJEM| PREVOD Z UCTU|  4941|  25705|  DUCHOD|    AR|  CD|91663467|      1823|          3|POPLATEK MESICNE|1996-09-28|\n",
      "|  230021|      1271|1996-12-31| VYDAJ|         VYBER|    15|  18532|  SLUZBY|    AR|null|       0|      1271|         17|POPLATEK MESICNE|1996-06-18|\n",
      "|  347463|      1917|1997-06-01| VYDAJ|         VYBER|  3600|  14446|    null|    AK|null|       0|      1917|         73|POPLATEK MESICNE|1995-12-13|\n",
      "|  684429|      3812|1996-03-05|PRIJEM| PREVOD Z UCTU|  4980|  23308|  DUCHOD|    AR|  QR| 2473032|      3812|         72|POPLATEK MESICNE|1995-01-16|\n",
      "|  769731|      5591|1997-10-12| VYDAJ|PREVOD NA UCET|   345|  47222|POJISTNE|    AR|  OP|87980109|      5591|          9|POPLATEK MESICNE|1996-03-16|\n",
      "|  322444|      1787|1996-09-13|PRIJEM|         VKLAD| 35418|  70470|    null|    AR|null|       0|      1787|         30|  POPLATEK TYDNE|1993-03-22|\n",
      "|  515611|      2859|1998-08-17| VYBER|         VYBER| 20117|  43662|    null|    AR|null|       0|      2859|         11|POPLATEK MESICNE|1993-10-23|\n",
      "|  662943|      3696|1997-11-12| VYDAJ|PREVOD NA UCET|  3581|  63201|    SIPO|    AR|  KL|77298909|      3696|          1|POPLATEK MESICNE|1996-06-22|\n",
      "|  993927|      2344|1998-10-31|PRIJEM|          null|   100|  24423|    UROK|    AR|null|       0|      2344|         13|POPLATEK MESICNE|1996-07-02|\n",
      "|  690473|      3847|1996-05-06| VYDAJ|PREVOD NA UCET|     7|  36798|    null|    AR|  YZ|83747803|      3847|         33|POPLATEK MESICNE|1995-06-13|\n",
      "|  488106|      2701|1997-05-05| VYDAJ|PREVOD NA UCET|  5761|  50884|    null|    AR|  MN|24402356|      2701|         71|POPLATEK MESICNE|1993-07-27|\n",
      "+--------+----------+----------+------+--------------+------+-------+--------+------+----+--------+----------+-----------+----------------+----------+\n",
      "only showing top 20 rows\n",
      "\n"
     ]
    }
   ],
   "source": [
    "# join transactions and account table on account_id\n",
    "inner_join = trans_df.join(account_df, trans_df.account_id == account_df.account_id)\n",
    "inner_join.show()"
   ]
  },
  {
   "cell_type": "code",
   "execution_count": 23,
   "metadata": {
    "scrolled": false
   },
   "outputs": [
    {
     "name": "stdout",
     "output_type": "stream",
     "text": [
      "+-----------+---------+\n",
      "|district_id|       A2|\n",
      "+-----------+---------+\n",
      "|         47|Pardubice|\n",
      "+-----------+---------+\n",
      "\n"
     ]
    }
   ],
   "source": [
    "# filter the joined table for cash withdrawals\n",
    "vyber = inner_join.filter(inner_join['operation'] == 'VYBER').persist()\n",
    "# find max amount of cash withdrawal\n",
    "vyber_max_amount = vyber.agg(F.max('amount')).collect()[0][0]\n",
    "# return the district_id for the max cash withdrawal\n",
    "vyber_district_id_max_amount = vyber.filter(vyber['amount'] == vyber_max_amount).select('district_id', 'amount')\n",
    "# find the name of the district by corresponding district_id in the district table\n",
    "district_df.filter(district_df['district_id']=='47').select('district_id','A2').show()\n",
    "\n",
    "# inner_join.show()\n",
    "# print(grouped[0][0])"
   ]
  },
  {
   "attachments": {
    "spark_sql.png": {
     "image/png": "[encoded data removed]"
    }
   },
   "cell_type": "markdown",
   "metadata": {},
   "source": [
    "![spark_sql.png](attachment:spark_sql.png)"
   ]
  },
  {
   "attachments": {
    "spark_sql_1.png": {
     "image/png": "[encoded data removed]"
    }
   },
   "cell_type": "markdown",
   "metadata": {},
   "source": [
    "![spark_sql_1.png](attachment:spark_sql_1.png)\n",
    "\n"
   ]
  },
  {
   "cell_type": "code",
   "execution_count": 291,
   "metadata": {
    "scrolled": false
   },
   "outputs": [
    {
     "name": "stdout",
     "output_type": "stream",
     "text": [
      "+-----------+-------------+--------------------+---------------------+\n",
      "|district_id|     district|cash_withdrawals_vol|number_of_inhabitants|\n",
      "+-----------+-------------+--------------------+---------------------+\n",
      "|         31|       Tachov|                5382|                51313|\n",
      "|         65|       Znojmo|                3549|               114200|\n",
      "|         53|      Blansko|                4622|               107911|\n",
      "|         34|     Chomutov|                3056|               125236|\n",
      "|         28|Plzen - sever|                4308|                72541|\n",
      "|         76|      Sumperk|                5501|               127369|\n",
      "|         27|  Plzen - jih|                3551|                67298|\n",
      "|         26|Plzen - mesto|                3772|               170449|\n",
      "|         44|      Chrudim|                4684|               105606|\n",
      "|         12|      Pribram|                3844|               107870|\n",
      "+-----------+-------------+--------------------+---------------------+\n",
      "only showing top 10 rows\n",
      "\n"
     ]
    }
   ],
   "source": [
    "# find the number of cash withdrawals per district_id\n",
    "district_id_cash_withdrawal = inner_join.filter(inner_join['operation'] == 'VYBER').groupBy(inner_join['district_id']).count().withColumnRenamed('count','cash_withdrawals_vol')\n",
    "# join district names and #_of_inhabitants with cash outflows\n",
    "cash_withdraw_per_district = district_id_cash_withdrawal.join(district_df, 'district_id').select('district_id','A2','cash_withdrawals_vol','A4')\\\n",
    ".withColumnRenamed('A2','district').withColumnRenamed('A4','number_of_inhabitants')\n",
    "# cash_withdraw_per_district['#_of_inhabitants']\n",
    "# convert field #_of_inhabitants to integer\n",
    "cash_withdraw_per_district = cash_withdraw_per_district.withColumn('number_of_inhabitants', cash_withdraw_per_district.number_of_inhabitants.cast(IntegerType()))\n",
    "# cash_withdraw_per_district.count()\n",
    "# cash_withdraw_per_district.show(n=10)\n",
    "cash_withdraw_per_district.show(n=10)"
   ]
  },
  {
   "cell_type": "code",
   "execution_count": 32,
   "metadata": {},
   "outputs": [],
   "source": [
    "# get list from dataframe\n",
    "x1 = cash_withdraw_per_district.select('cash_withdrawals_vol').rdd.flatMap(lambda x: x).collect()\n",
    "x2 = cash_withdraw_per_district.select('number_of_inhabitants').rdd.flatMap(lambda x: x).collect()"
   ]
  },
  {
   "cell_type": "code",
   "execution_count": 33,
   "metadata": {
    "scrolled": true
   },
   "outputs": [
    {
     "data": {
      "text/plain": [
       "(0.96118764641878, 0.34733915650335134)"
      ]
     },
     "execution_count": 33,
     "metadata": {},
     "output_type": "execute_result"
    }
   ],
   "source": [
    "from pyspark import SparkContext\n",
    "from pyspark.mllib.stat import Statistics\n",
    "    \n",
    "sc = SparkContext.getOrCreate()\n",
    "cash_withdrawal_vol = sc.parallelize(x1,2)\n",
    "number_of_inhabitants = sc.parallelize(x2,2)\n",
    "\n",
    "# calculate pearson correlation\n",
    "pearson_corr = Statistics.corr(cash_withdrawal_vol, number_of_inhabitants,'pearson')\n",
    "# calculate spearman correlation\n",
    "spearman_corr = Statistics.corr(cash_withdrawal_vol, number_of_inhabitants,'spearman')\n",
    "pearson_corr, spearman_corr"
   ]
  },
  {
   "cell_type": "code",
   "execution_count": 53,
   "metadata": {},
   "outputs": [
    {
     "data": {
      "text/plain": [
       "Text(0, 0.5, 'Number of inhabitants')"
      ]
     },
     "execution_count": 53,
     "metadata": {},
     "output_type": "execute_result"
    },
    {
     "data": {
      "image/png": "[encoded data removed]",
      "text/plain": [
       "<Figure size 720x432 with 1 Axes>"
      ]
     },
     "metadata": {
      "needs_background": "light"
     },
     "output_type": "display_data"
    }
   ],
   "source": [
    "import matplotlib.pyplot as plt\n",
    "fig, ax = plt.subplots(figsize = (10,6))\n",
    "ax.margins(x=0.01)\n",
    "plt.scatter(x1,x2,s=6)\n",
    "plt.xlabel('Cash withdrawal volume')\n",
    "plt.ylabel('Number of inhabitants')"
   ]
  },
  {
   "cell_type": "code",
   "execution_count": 42,
   "metadata": {
    "scrolled": true
   },
   "outputs": [
    {
     "data": {
      "image/png": "[encoded data removed]",
      "text/plain": [
       "<Figure size 432x288 with 1 Axes>"
      ]
     },
     "metadata": {
      "needs_background": "light"
     },
     "output_type": "display_data"
    }
   ],
   "source": [
    "from matplotlib.pyplot import hist\n",
    "import matplotlib.pyplot as plt\n",
    "\n",
    "fig, ax = plt.subplots()\n",
    "ax.hist(x1,lw=1.5,histtype='step', label = 'cash_withdrawal_vol')\n",
    "ax.hist(x2,lw=1.5,histtype='step', label = 'number of inhabitants')\n",
    "plt.show()"
   ]
  },
  {
   "cell_type": "code",
   "execution_count": 136,
   "metadata": {},
   "outputs": [
    {
     "data": {
      "text/plain": [
       "DataFrame[client_id: int, gender: string, district_id: int, birth_date: date]"
      ]
     },
     "execution_count": 136,
     "metadata": {},
     "output_type": "execute_result"
    }
   ],
   "source": [
    "from pyspark.sql.functions import to_date\n",
    "client_df = spark.read.csv('client.csv',sep=';',header=True,inferSchema=True)\n",
    "client_df = client_df.select('client_id', 'gender', 'district_id', to_date('birth_date','yyyy-MM-dd').alias('birth_date'))\n",
    "client_df"
   ]
  },
  {
   "cell_type": "code",
   "execution_count": 137,
   "metadata": {},
   "outputs": [
    {
     "data": {
      "text/plain": [
       "DataFrame[client_id: int, gender: string, district_id: int, birth_date: date]"
      ]
     },
     "execution_count": 137,
     "metadata": {},
     "output_type": "execute_result"
    }
   ],
   "source": [
    "client_ids_df = client_df.select(client_df['client_id'])\n",
    "client_ids_list = client_ids_df.rdd.flatMap(lambda x: x).collect()\n",
    "client_df"
   ]
  },
  {
   "cell_type": "code",
   "execution_count": 148,
   "metadata": {},
   "outputs": [
    {
     "data": {
      "text/plain": [
       "pyspark.sql.dataframe.DataFrame"
      ]
     },
     "execution_count": 148,
     "metadata": {},
     "output_type": "execute_result"
    }
   ],
   "source": [
    "# create new client_id with sha256 hash\n",
    "from pyspark.sql.functions import sha2, concat_ws\n",
    "new_client_df = client_df.withColumn('new_client_id',sha2(concat_ws('||',*client_df.columns),256))\n",
    "# new_client_df.show()\n",
    "type(new_client_df)"
   ]
  },
  {
   "cell_type": "code",
   "execution_count": 149,
   "metadata": {},
   "outputs": [
    {
     "data": {
      "text/plain": [
       "DataFrame[client_id: int, disp_id: int, account_id: int, type: string]"
      ]
     },
     "execution_count": 149,
     "metadata": {},
     "output_type": "execute_result"
    }
   ],
   "source": [
    "from pyspark.sql.functions import to_date\n",
    "disp_df = spark.read.csv('disp.csv',sep=';',header=True,inferSchema=True)\n",
    "disp_df = disp_df.select('client_id', 'disp_id', 'account_id', 'type')\n",
    "disp_df"
   ]
  },
  {
   "cell_type": "code",
   "execution_count": 154,
   "metadata": {
    "scrolled": true
   },
   "outputs": [
    {
     "name": "stdout",
     "output_type": "stream",
     "text": [
      "+---------+------+-----------+----------+--------------------+---------+-------+----------+---------+\n",
      "|client_id|gender|district_id|birth_date|       new_client_id|client_id|disp_id|account_id|     type|\n",
      "+---------+------+-----------+----------+--------------------+---------+-------+----------+---------+\n",
      "|        1|     F|         18|1970-12-13|0c38f954eaf3c911d...|        1|      1|         1|    OWNER|\n",
      "|        2|     M|          1|1945-02-04|07324e34b3b1beb17...|        2|      2|         2|    OWNER|\n",
      "|        3|     F|          1|1940-10-09|f1932ef987dd495de...|        3|      3|         2|DISPONENT|\n",
      "|        4|     M|          5|1956-12-01|5b4d3fc1190776edd...|        4|      4|         3|    OWNER|\n",
      "|        5|     F|          5|1960-07-03|0125ff849111a9785...|        5|      5|         3|DISPONENT|\n",
      "|        6|     M|         12|1919-09-22|7e0cbb1e37ab530b8...|        6|      6|         4|    OWNER|\n",
      "|        7|     M|         15|1929-01-25|5d309606dd62a5cda...|        7|      7|         5|    OWNER|\n",
      "|        8|     F|         51|1938-02-21|59175afdcaacfc3c1...|        8|      8|         6|    OWNER|\n",
      "|        9|     M|         60|1935-10-16|51f437e57d89981d3...|        9|      9|         7|    OWNER|\n",
      "|       10|     M|         57|1943-05-01|36f2d452fde92a0df...|       10|     10|         8|    OWNER|\n",
      "|       11|     F|         57|1950-08-22|a26537e8ce3afd00e...|       11|     11|         8|DISPONENT|\n",
      "|       12|     M|         40|1981-02-20|32df8df1d43c8da49...|       12|     12|         9|    OWNER|\n",
      "|       13|     F|         54|1974-05-29|92c95ba45c6846270...|       13|     13|        10|    OWNER|\n",
      "|       14|     F|         76|1942-06-22|0dabc607e3b6059a8...|       14|     14|        11|    OWNER|\n",
      "|       15|     F|         21|1918-08-28|59eb08d5bd795962c...|       15|     15|        12|    OWNER|\n",
      "|       16|     M|         21|1919-02-25|bec2dbb06d57a0274...|       16|     16|        12|DISPONENT|\n",
      "|       17|     M|         76|1934-10-13|39109218c87e29e82...|       17|     17|        13|    OWNER|\n",
      "|       18|     F|         76|1931-04-05|d9acf4f107a70e762...|       18|     18|        13|DISPONENT|\n",
      "|       19|     M|         47|1942-12-28|b0917a8c88f566752...|       19|     19|        14|    OWNER|\n",
      "|       20|     M|         46|1979-01-04|7a96c4578db49dc3c...|       20|     20|        15|    OWNER|\n",
      "+---------+------+-----------+----------+--------------------+---------+-------+----------+---------+\n",
      "only showing top 20 rows\n",
      "\n"
     ]
    }
   ],
   "source": [
    "new_disp_df = new_client_df.join(disp_df, new_client_df.client_id==disp_df.client_id)\n",
    "new_disp_df.show()"
   ]
  },
  {
   "cell_type": "code",
   "execution_count": 163,
   "metadata": {
    "scrolled": true
   },
   "outputs": [
    {
     "name": "stdout",
     "output_type": "stream",
     "text": [
      "+-------+----------+----------+------+--------+--------+------+\n",
      "|loan_id|account_id|      date|amount|duration|payments|status|\n",
      "+-------+----------+----------+------+--------+--------+------+\n",
      "|   4959|         2|1994-01-05| 80952|      24|  3373.0|     A|\n",
      "|   4961|        19|1996-04-29| 30276|      12|  2523.0|     B|\n",
      "|   4962|        25|1997-12-08| 30276|      12|  2523.0|     A|\n",
      "|   4967|        37|1998-10-14|318480|      60|  5308.0|     D|\n",
      "|   4968|        38|1998-04-19|110736|      48|  2307.0|     C|\n",
      "|   4973|        67|1996-05-02|165960|      24|  6915.0|     A|\n",
      "|   4986|        97|1997-08-10|102876|      12|  8573.0|     A|\n",
      "|   4988|       103|1997-12-06|265320|      36|  7370.0|     D|\n",
      "|   4989|       105|1998-12-05|352704|      48|  7348.0|     C|\n",
      "|   4990|       110|1997-09-08|162576|      36|  4516.0|     C|\n",
      "|   4996|       132|1996-11-06| 88440|      12|  7370.0|     A|\n",
      "|   5002|       173|1994-05-31|104808|      12|  8734.0|     A|\n",
      "|   5005|       176|1997-04-10| 27456|      12|  2288.0|     A|\n",
      "|   5015|       226|1998-07-12|109344|      12|  9112.0|     C|\n",
      "|   5027|       276|1998-12-02|160920|      36|  4470.0|     C|\n",
      "|   5032|       290|1994-11-03|123696|      48|  2577.0|     A|\n",
      "|   5034|       303|1998-05-30|112752|      36|  3132.0|     C|\n",
      "|   5036|       309|1998-11-25| 91248|      48|  1901.0|     C|\n",
      "|   5039|       314|1997-05-03| 66840|      24|  2785.0|     C|\n",
      "|   5041|       319|1997-07-11|369000|      60|  6150.0|     C|\n",
      "+-------+----------+----------+------+--------+--------+------+\n",
      "only showing top 20 rows\n",
      "\n"
     ]
    }
   ],
   "source": [
    "loan_df = spark.read.csv('loan.csv', inferSchema=True, header=True, sep=';')\n",
    "loan_df.show()"
   ]
  },
  {
   "cell_type": "code",
   "execution_count": 169,
   "metadata": {
    "scrolled": true
   },
   "outputs": [
    {
     "name": "stdout",
     "output_type": "stream",
     "text": [
      "+-----------+-----------------+---------------+-------+---+---+---+---+---+-----+-----+---+----+---+-----+-----+\n",
      "|district_id|               A2|             A3|     A4| A5| A6| A7| A8| A9|  A10|  A11|A12| A13|A14|  A15|  A16|\n",
      "+-----------+-----------------+---------------+-------+---+---+---+---+---+-----+-----+---+----+---+-----+-----+\n",
      "|          1|      Hl.m. Praha|         Prague|1204953|  0|  0|  0|  1|  1|100.0|12541|0.2|0.43|167|85677|99107|\n",
      "|          2|          Benesov|central Bohemia|  88884| 80| 26|  6|  2|  5| 46.7| 8507|1.6|1.85|132| 2159| 2674|\n",
      "|          3|           Beroun|central Bohemia|  75232| 55| 26|  4|  1|  5| 41.7| 8980|1.9|2.21|111| 2824| 2813|\n",
      "|          4|           Kladno|central Bohemia| 149893| 63| 29|  6|  2|  6| 67.4| 9753|4.6|5.05|109| 5244| 5892|\n",
      "|          5|            Kolin|central Bohemia|  95616| 65| 30|  4|  1|  6| 51.4| 9307|3.8|4.43|118| 2616| 3040|\n",
      "|          6|       Kutna Hora|central Bohemia|  77963| 60| 23|  4|  2|  4| 51.5| 8546|2.9|4.02|126| 2640| 3120|\n",
      "|          7|           Melnik|central Bohemia|  94725| 38| 28|  1|  3|  6| 63.4| 9920|2.2|2.87|130| 4289| 4846|\n",
      "|          8|   Mlada Boleslav|central Bohemia| 112065| 95| 19|  7|  1|  8| 69.4|11277|1.2|1.44|127| 5179| 4987|\n",
      "|          9|          Nymburk|central Bohemia|  81344| 61| 23|  4|  2|  6| 55.3| 8899|3.3|3.97|149| 2987| 2487|\n",
      "|         10|   Praha - vychod|central Bohemia|  92084| 55| 29|  4|  3|  5| 46.7|10124|0.5|0.54|141| 3810| 4316|\n",
      "|         11|    Praha - zapad|central Bohemia|  75637| 35| 36|  9|  0|  7| 36.5| 9622|0.4|0.59|154| 3475| 3529|\n",
      "|         12|          Pribram|central Bohemia| 107870| 84| 29|  6|  1|  6| 58.0| 8754|3.8|4.31|137| 3804| 3868|\n",
      "|         13|         Rakovnik|central Bohemia|  53921| 61| 22|  1|  1|  2| 41.3| 8598|2.7|3.26|123| 1597| 1875|\n",
      "|         14| Ceske Budejovice|  south Bohemia| 177686| 69| 27| 10|  1|  9| 74.8|10045|1.4|1.71|135| 6604| 6295|\n",
      "|         15|    Cesky Krumlov|  south Bohemia|  58796| 22| 16|  7|  1|  5| 51.9| 9045|3.1| 3.6|124| 1845| 1879|\n",
      "|         16|Jindrichuv Hradec|  south Bohemia|  93931| 74| 21| 10|  1|  8| 56.9| 8427|1.1|1.54|107| 1874| 1913|\n",
      "|         17|        Pelhrimov|  south Bohemia|  74062| 99| 15|  4|  2|  7| 61.4| 8114|2.3|2.62|119| 1003| 1181|\n",
      "|         18|            Pisek|  south Bohemia|  70699| 60| 13|  2|  1|  4| 65.3| 8968|2.8|3.35|131| 1740| 1910|\n",
      "|         19|       Prachatice|  south Bohemia|  51428| 50| 11|  3|  1|  4| 52.7| 8402|3.1|3.98|120|  999| 1099|\n",
      "|         20|       Strakonice|  south Bohemia|  70646| 94| 14|  3|  1|  4| 58.4| 8547|2.6|3.64|120| 1563| 1542|\n",
      "+-----------+-----------------+---------------+-------+---+---+---+---+---+-----+-----+---+----+---+-----+-----+\n",
      "only showing top 20 rows\n",
      "\n"
     ]
    }
   ],
   "source": [
    "district_df = spark.read.csv('district.csv', inferSchema=True, header=True, sep=';')\n",
    "district_df.show()"
   ]
  },
  {
   "cell_type": "code",
   "execution_count": 219,
   "metadata": {},
   "outputs": [
    {
     "data": {
      "text/plain": [
       "DataFrame[account_id: int, district_id: int, frequency: string, date: date, A2: string, A3: string, A4: int, A5: int, A6: int, A7: int, A8: int, A9: int, A10: double, A11: int, A12: double, A13: double, A14: int, A15: int, A16: int, loan_id: int, date: string, amount: int, duration: int, payments: double, status: string]"
      ]
     },
     "execution_count": 219,
     "metadata": {},
     "output_type": "execute_result"
    }
   ],
   "source": [
    "account_district_loan"
   ]
  },
  {
   "cell_type": "code",
   "execution_count": 196,
   "metadata": {
    "scrolled": true
   },
   "outputs": [
    {
     "name": "stdout",
     "output_type": "stream",
     "text": [
      "+------+\n",
      "|amount|\n",
      "+------+\n",
      "| 80952|\n",
      "| 30276|\n",
      "| 30276|\n",
      "|318480|\n",
      "|110736|\n",
      "|165960|\n",
      "|102876|\n",
      "|265320|\n",
      "|352704|\n",
      "|162576|\n",
      "| 88440|\n",
      "|104808|\n",
      "| 27456|\n",
      "|109344|\n",
      "|160920|\n",
      "|123696|\n",
      "|112752|\n",
      "| 91248|\n",
      "| 66840|\n",
      "|369000|\n",
      "+------+\n",
      "only showing top 20 rows\n",
      "\n"
     ]
    }
   ],
   "source": [
    "account_district_loan = account_df.join(district_df, ['district_id']).join(loan_df, ['account_id'])\n",
    "# account_district_loan.show()\n",
    "account_district_loan.select('amount').show()\n",
    "# account_district_loan.select(['district_id','amount']).groupBy('district_id').count().show()"
   ]
  },
  {
   "cell_type": "code",
   "execution_count": 199,
   "metadata": {
    "scrolled": true
   },
   "outputs": [
    {
     "name": "stdout",
     "output_type": "stream",
     "text": [
      "+-----------+-----+\n",
      "|district_id|count|\n",
      "+-----------+-----+\n",
      "|         31|    8|\n",
      "|         65|    6|\n",
      "|         53|    7|\n",
      "|         34|    9|\n",
      "|         28|    7|\n",
      "|         76|    5|\n",
      "|         27|    9|\n",
      "|         26|    6|\n",
      "|         44|    8|\n",
      "|         12|    8|\n",
      "|         22|    2|\n",
      "|         47|   10|\n",
      "|          1|   84|\n",
      "|         52|   14|\n",
      "|         13|    8|\n",
      "|         16|   11|\n",
      "|          6|    9|\n",
      "|          3|    6|\n",
      "|         20|    6|\n",
      "|         40|    6|\n",
      "+-----------+-----+\n",
      "only showing top 20 rows\n",
      "\n"
     ]
    }
   ],
   "source": [
    "account_district_loan.select('district_id').groupBy('district_id').count().show()"
   ]
  },
  {
   "cell_type": "code",
   "execution_count": 247,
   "metadata": {},
   "outputs": [
    {
     "name": "stdout",
     "output_type": "stream",
     "text": [
      "+-----------+------------+--------------+-------------------+\n",
      "|district_id|count_of_ids|sum_of_amounts|avg_of_loan_amounts|\n",
      "+-----------+------------+--------------+-------------------+\n",
      "|         31|           8|        959784|           119973.0|\n",
      "|         65|           6|        944376|           157396.0|\n",
      "|         53|           7|       1191024|  170146.2857142857|\n",
      "|         34|           9|        923916| 102657.33333333333|\n",
      "|         28|           7|       1338984| 191283.42857142858|\n",
      "|         76|           5|        829644|           165928.8|\n",
      "|         27|           9|       1294188| 143798.66666666666|\n",
      "|         26|           6|        756804|           126134.0|\n",
      "|         44|           8|       1431684|           178960.5|\n",
      "|         12|           8|       1299192|           162399.0|\n",
      "|         22|           2|        397008|           198504.0|\n",
      "|         47|          10|       1648368|           164836.8|\n",
      "|          1|          84|      12932412|  153957.2857142857|\n",
      "|         52|          14|       2213160| 158082.85714285713|\n",
      "|         13|           8|        960744|           120093.0|\n",
      "|         16|          11|       1339572| 121779.27272727272|\n",
      "|          6|           9|       2095980| 232886.66666666666|\n",
      "|          3|           6|       1460796|           243466.0|\n",
      "|         20|           6|       1224492|           204082.0|\n",
      "|         40|           6|        872748|           145458.0|\n",
      "+-----------+------------+--------------+-------------------+\n",
      "only showing top 20 rows\n",
      "\n"
     ]
    }
   ],
   "source": [
    "# calculate the avg of loan volumes for each district\n",
    "from pyspark.sql.functions import count, sum, mean, format_number\n",
    "average_loan_district = account_district_loan.groupBy('district_id').agg(count('district_id').alias('count_of_ids'),\n",
    "                                                sum('amount').alias('sum_of_amounts'),\n",
    "                                                mean('amount').alias('avg_of_loan_amounts'))\n",
    "average_loan_district.show()"
   ]
  },
  {
   "cell_type": "code",
   "execution_count": 260,
   "metadata": {},
   "outputs": [
    {
     "name": "stdout",
     "output_type": "stream",
     "text": [
      "+-----------+-----------------+-------------------+\n",
      "|district_id|    district_name|avg_of_loan_amounts|\n",
      "+-----------+-----------------+-------------------+\n",
      "|         31|           Tachov|           119973.0|\n",
      "|         65|           Znojmo|           157396.0|\n",
      "|         53|          Blansko|  170146.2857142857|\n",
      "|         34|         Chomutov| 102657.33333333333|\n",
      "|         28|    Plzen - sever| 191283.42857142858|\n",
      "|         76|          Sumperk|           165928.8|\n",
      "|         27|      Plzen - jih| 143798.66666666666|\n",
      "|         26|    Plzen - mesto|           126134.0|\n",
      "|         44|          Chrudim|           178960.5|\n",
      "|         12|          Pribram|           162399.0|\n",
      "|         22|        Domazlice|           198504.0|\n",
      "|         47|        Pardubice|           164836.8|\n",
      "|          1|      Hl.m. Praha|  153957.2857142857|\n",
      "|         52|  Usti nad Orlici| 158082.85714285713|\n",
      "|         13|         Rakovnik|           120093.0|\n",
      "|         16|Jindrichuv Hradec| 121779.27272727272|\n",
      "|          6|       Kutna Hora| 232886.66666666666|\n",
      "|          3|           Beroun|           243466.0|\n",
      "|         20|       Strakonice|           204082.0|\n",
      "|         40|          Teplice|           145458.0|\n",
      "+-----------+-----------------+-------------------+\n",
      "only showing top 20 rows\n",
      "\n"
     ]
    }
   ],
   "source": [
    "average_loan_district_name = average_loan_district.join(district_df,['district_id']).select(['district_id','A2','avg_of_loan_amounts'])\\\n",
    "                                                        .withColumnRenamed('A2','district_name')\n",
    "average_loan_district_name.show()"
   ]
  },
  {
   "cell_type": "code",
   "execution_count": 353,
   "metadata": {},
   "outputs": [
    {
     "data": {
      "text/plain": [
       "DataFrame[district_id: int, district_name: string, avg_of_loan_amounts: double]"
      ]
     },
     "execution_count": 353,
     "metadata": {},
     "output_type": "execute_result"
    }
   ],
   "source": [
    "average_loan_district_name"
   ]
  },
  {
   "cell_type": "code",
   "execution_count": 308,
   "metadata": {},
   "outputs": [],
   "source": [
    "from pyspark.sql.functions import format_number, regexp_replace\n",
    "# dataframe of district names to list for plotting\n",
    "district_name_list = average_loan_district_name.select(['district_name']).rdd.flatMap(lambda x: x).collect()\n",
    "# format average loan to 1 decimal point accuracy\n",
    "avg_loan_amount_df = average_loan_district_name.select(\n",
    "    regexp_replace(format_number('avg_of_loan_amounts',1),',','').alias('avg_of_loan_amounts'))\n",
    "# cast string loan amounts to integer type and convert dataframe to list\n",
    "avg_loan_amount_list = avg_loan_amount_df.withColumn(\n",
    "    'avg_of_loan_amounts',avg_loan_amount_df['avg_of_loan_amounts'].cast(IntegerType())).rdd.flatMap(lambda x: x).collect()"
   ]
  },
  {
   "cell_type": "code",
   "execution_count": 358,
   "metadata": {
    "scrolled": true
   },
   "outputs": [
    {
     "data": {
      "image/png": "[encoded data removed]",
      "text/plain": [
       "<Figure size 720x864 with 1 Axes>"
      ]
     },
     "metadata": {
      "needs_background": "light"
     },
     "output_type": "display_data"
    }
   ],
   "source": [
    "import seaborn as sns\n",
    "fig, ax1 = plt.subplots(figsize=(10,12))\n",
    "fig.tight_layout()\n",
    "fig.subplots_adjust(top=0.96)\n",
    "\n",
    "# plot the average loan amount per district\n",
    "sns.barplot(x=avg_loan_amount_list, y=district_name_list , color=\"b\", ax=ax1)\n",
    "ax1.set(ylabel='Districts', xlabel='Average loan amount')\n",
    "sns.despine(left=True, bottom=True,ax=ax1)"
   ]
  },
  {
   "cell_type": "code",
   "execution_count": 417,
   "metadata": {
    "scrolled": true
   },
   "outputs": [
    {
     "name": "stdout",
     "output_type": "stream",
     "text": [
      "root\n",
      " |-- loan_id: integer (nullable = true)\n",
      " |-- account_id: integer (nullable = true)\n",
      " |-- loan_date: date (nullable = true)\n",
      " |-- amount: integer (nullable = true)\n",
      " |-- duration: integer (nullable = true)\n",
      " |-- payments: double (nullable = true)\n",
      " |-- status: string (nullable = true)\n",
      "\n"
     ]
    }
   ],
   "source": [
    "from pyspark.sql.functions import to_date\n",
    "loan_df = spark.read.csv('loan.csv',inferSchema=True,header=True,sep=';')\n",
    "loan_df = loan_df.select('loan_id','account_id',to_date('date','yyyy-MM-dd').alias('loan_date'),'amount','duration','payments',\n",
    "                        'status')\n",
    "loan_df.printSchema()"
   ]
  },
  {
   "cell_type": "code",
   "execution_count": 597,
   "metadata": {
    "scrolled": false
   },
   "outputs": [],
   "source": [
    "from pyspark.sql.functions import when, col\n",
    "# convert status_loan of 'A' and 'C' (good borrowers) to 1 and 'B' and 'D' (bad borrowers) to 0\n",
    "loan_df = loan_df.withColumn('status', when((col('status')=='A')|(col('status')=='C'),1).otherwise(0))"
   ]
  },
  {
   "cell_type": "code",
   "execution_count": 598,
   "metadata": {},
   "outputs": [
    {
     "data": {
      "text/plain": [
       "DataFrame[account_id: int, district_id: int, frequency: string, acc_date: date]"
      ]
     },
     "execution_count": 598,
     "metadata": {},
     "output_type": "execute_result"
    }
   ],
   "source": [
    "account_df = spark.read.csv('account.csv',inferSchema=True,sep=';',header=True)\n",
    "account_df = account_df.select(['account_id','district_id','frequency',to_date(account_df.date, 'yyyy-MM-dd').alias('acc_date')])\n",
    "account_df"
   ]
  },
  {
   "cell_type": "code",
   "execution_count": 599,
   "metadata": {},
   "outputs": [
    {
     "data": {
      "text/plain": [
       "DataFrame[district_id: int, A2: string, A3: string, A4: int, A5: int, A6: int, A7: int, A8: int, A9: int, A10: double, A11: int, A12: double, A13: double, A14: int, A15: int, A16: int]"
      ]
     },
     "execution_count": 599,
     "metadata": {},
     "output_type": "execute_result"
    }
   ],
   "source": [
    "district_df"
   ]
  },
  {
   "cell_type": "code",
   "execution_count": 600,
   "metadata": {},
   "outputs": [
    {
     "data": {
      "text/plain": [
       "DataFrame[district_id: int, account_id: int, loan_id: int, loan_date: date, amount: int, duration: int, payments: double, status: int, frequency: string, acc_date: date, A2: string, A3: string, A4: int, A5: int, A6: int, A7: int, A8: int, A9: int, A10: double, A11: int, A12: double, A13: double, A14: int, A15: int, A16: int]"
      ]
     },
     "execution_count": 600,
     "metadata": {},
     "output_type": "execute_result"
    }
   ],
   "source": [
    "loan_account_district_df = loan_df.join(account_df,'account_id').join(district_df,'district_id')\n",
    "loan_account_district_df"
   ]
  },
  {
   "cell_type": "code",
   "execution_count": 601,
   "metadata": {},
   "outputs": [
    {
     "name": "stdout",
     "output_type": "stream",
     "text": [
      "+-----------+----------+-------+----------+----------+\n",
      "|district_id|account_id|loan_id|  acc_date| loan_date|\n",
      "+-----------+----------+-------+----------+----------+\n",
      "|          1|         2|   4959|1993-02-26|1994-01-05|\n",
      "|         21|        19|   4961|1995-04-07|1996-04-29|\n",
      "|         68|        25|   4962|1996-07-28|1997-12-08|\n",
      "|         20|        37|   4967|1997-08-18|1998-10-14|\n",
      "|         19|        38|   4968|1997-08-08|1998-04-19|\n",
      "|         16|        67|   4973|1994-10-19|1996-05-02|\n",
      "|         74|        97|   4986|1996-05-05|1997-08-10|\n",
      "|         44|       103|   4988|1996-03-10|1997-12-06|\n",
      "|         21|       105|   4989|1997-07-10|1998-12-05|\n",
      "|         36|       110|   4990|1996-07-17|1997-09-08|\n",
      "+-----------+----------+-------+----------+----------+\n",
      "only showing top 10 rows\n",
      "\n"
     ]
    }
   ],
   "source": [
    "loan_account_district_df.select(['district_id','account_id','loan_id','acc_date','loan_date']).show(n=10)"
   ]
  },
  {
   "cell_type": "code",
   "execution_count": 602,
   "metadata": {},
   "outputs": [],
   "source": [
    "from pyspark.sql.functions import datediff, col\n",
    "loan_date_df = loan_account_district_df.select('loan_date')\n",
    "acc_date_df= loan_account_district_df.select('acc_date')\n",
    "# calculate the days between the account opening and the loan grant, use as feature for classification\n",
    "loan_account_district_df = loan_account_district_df.withColumn('days_btwn_acc_loan',datediff(col('loan_date'), col('acc_date')))\n",
    "# rename the columns I will use for features later on\n",
    "loan_account_district_df = loan_account_district_df.withColumnRenamed('A4','number_of_residents').withColumnRenamed('A11','average_salary')\\\n",
    "                        .withColumnRenamed('A14','entepreneur_rate')"
   ]
  },
  {
   "cell_type": "code",
   "execution_count": 610,
   "metadata": {},
   "outputs": [
    {
     "name": "stdout",
     "output_type": "stream",
     "text": [
      "+----------+-----+-----+-------------------+\n",
      "|account_id|  A15|  A16|number_of_residents|\n",
      "+----------+-----+-----+-------------------+\n",
      "|         2|85677|99107|            1204953|\n",
      "|        19| 2299| 2354|             103347|\n",
      "|        25| 5623| 5887|             228848|\n",
      "|        37| 1563| 1542|              70646|\n",
      "|        38|  999| 1099|              51428|\n",
      "|        67| 1874| 1913|              93931|\n",
      "|        97|18782|18347|             323870|\n",
      "|       103| 2166| 2325|             105606|\n",
      "|       105| 2299| 2354|             103347|\n",
      "|       110| 5796| 6132|             159617|\n",
      "+----------+-----+-----+-------------------+\n",
      "only showing top 10 rows\n",
      "\n"
     ]
    }
   ],
   "source": [
    "loan_account_district_df.select(['account_id','A15','A16','number_of_residents']).show(n=10)"
   ]
  },
  {
   "cell_type": "code",
   "execution_count": 594,
   "metadata": {
    "scrolled": true
   },
   "outputs": [
    {
     "name": "stdout",
     "output_type": "stream",
     "text": [
      "+-----------+----------+-------+---------+------+--------+--------+------+---------+--------+---+---+-------------------+---+---+---+---+---+---+--------------+---+---+----------------+---+---+------------------+\n",
      "|district_id|account_id|loan_id|loan_date|amount|duration|payments|status|frequency|acc_date| A2| A3|number_of_residents| A5| A6| A7| A8| A9|A10|average_salary|A12|A13|entepreneur_rate|A15|A16|days_btwn_acc_loan|\n",
      "+-----------+----------+-------+---------+------+--------+--------+------+---------+--------+---+---+-------------------+---+---+---+---+---+---+--------------+---+---+----------------+---+---+------------------+\n",
      "|          0|         0|      0|        0|     0|       0|       0|     0|        0|       0|  0|  0|                  0|  0|  0|  0|  0|  0|  0|             0|  0|  0|               0|  0|  0|                 0|\n",
      "+-----------+----------+-------+---------+------+--------+--------+------+---------+--------+---+---+-------------------+---+---+---+---+---+---+--------------+---+---+----------------+---+---+------------------+\n",
      "\n"
     ]
    }
   ],
   "source": [
    "from pyspark.sql.functions import isnan, when, count, col\n",
    "# find missing values of loan, account, district tables\n",
    "loan_account_district_df.select([count(when((col(c).isNull()), c)).alias(c) for c,c_type in loan_account_district_df.dtypes ]).show()"
   ]
  },
  {
   "cell_type": "code",
   "execution_count": 511,
   "metadata": {},
   "outputs": [
    {
     "name": "stdout",
     "output_type": "stream",
     "text": [
      "+--------+----------+----+----+---------+------+-------+--------+------+------+-------+\n",
      "|trans_id|account_id|date|type|operation|amount|balance|k_symbol|branch|  bank|account|\n",
      "+--------+----------+----+----+---------+------+-------+--------+------+------+-------+\n",
      "|       0|         0|3141|   0|   183126|     0|      0|  535359|     0|782875|      0|\n",
      "+--------+----------+----+----+---------+------+-------+--------+------+------+-------+\n",
      "\n"
     ]
    }
   ],
   "source": [
    "# find the number of missing values for each column of trans_df\n",
    "trans_df.select([count(when( col(c).isNull(), c)).alias(c) for c,c_type in trans_df.dtypes]).show()"
   ]
  },
  {
   "cell_type": "code",
   "execution_count": 612,
   "metadata": {},
   "outputs": [
    {
     "name": "stdout",
     "output_type": "stream",
     "text": [
      "+----------+------------------+-------------------+--------------+----------------+------+-------------------------+--------------------+\n",
      "|account_id|days_btwn_acc_loan|number_of_residents|average_salary|entepreneur_rate|status|average_unemployment_rate|  average_crime_rate|\n",
      "+----------+------------------+-------------------+--------------+----------------+------+-------------------------+--------------------+\n",
      "|         2|               313|            1204953|         12541|             167|     1|                    0.315| 0.07667684963645885|\n",
      "|        19|               388|             103347|          9104|             123|     0|                    1.785|0.022511538796481757|\n",
      "|        25|               498|             228848|          9893|              96|     1|        4.359999999999999|0.025147696287492135|\n",
      "|        37|               422|              70646|          8547|             120|     0|                     3.12|0.021975766497749342|\n",
      "|        38|               254|              51428|          8402|             120|     1|                     3.54|0.020397448860542896|\n",
      "|        67|               561|              93931|          8427|             107|     1|                     1.32|0.020158414155071275|\n",
      "|        97|               462|             323870|         10673|             100|     1|                     5.07| 0.05732083860808349|\n",
      "|       103|               636|             105606|          8254|              97|     0|                     3.23|0.021262996420657918|\n",
      "|       105|               513|             103347|          9104|             123|     1|                    1.785|0.022511538796481757|\n",
      "|       110|               418|             159617|          9198|             131|     1|                     3.79| 0.03736444113095723|\n",
      "+----------+------------------+-------------------+--------------+----------------+------+-------------------------+--------------------+\n",
      "only showing top 10 rows\n",
      "\n"
     ]
    }
   ],
   "source": [
    "# find mean unemployment rate and crime rate for years '95 '96 and select the some features from district table\n",
    "from pyspark.sql.functions import col,lit\n",
    "loan_account_district_df = loan_account_district_df.select(\n",
    "    'account_id','days_btwn_acc_loan','number_of_residents','average_salary','entepreneur_rate','status',\n",
    "    ((col('A12')+col('A13'))/lit(2)).alias('average_unemployment_rate'),\n",
    "    ((col('A15')+col('A16'))/lit(2)/col('number_of_residents')).alias('average_crime_rate'))\n",
    "loan_account_district_df.show(n=10)"
   ]
  },
  {
   "cell_type": "code",
   "execution_count": 627,
   "metadata": {},
   "outputs": [
    {
     "name": "stdout",
     "output_type": "stream",
     "text": [
      "+--------+----------+-------+----------+------+--------+\n",
      "|order_id|account_id|bank_to|account_to|amount|k_symbol|\n",
      "+--------+----------+-------+----------+------+--------+\n",
      "|   29401|         1|     YZ|  87144583|2452.0|    SIPO|\n",
      "|   29402|         2|     ST|  89597016|3372.7|    UVER|\n",
      "|   29403|         2|     QR|  13943797|7266.0|    SIPO|\n",
      "|   29404|         3|     WX|  83084338|1135.0|    SIPO|\n",
      "|   29405|         3|     CD|  24485939| 327.0|    null|\n",
      "+--------+----------+-------+----------+------+--------+\n",
      "only showing top 5 rows\n",
      "\n"
     ]
    }
   ],
   "source": [
    "order_df = spark.read.csv('order.csv',inferSchema=True,header=True,sep=';')\n",
    "order_df.show(n=5)"
   ]
  },
  {
   "cell_type": "code",
   "execution_count": 629,
   "metadata": {
    "scrolled": true
   },
   "outputs": [
    {
     "name": "stdout",
     "output_type": "stream",
     "text": [
      "+----------+------------------+-------------------+--------------+----------------+------+-------------------------+--------------------+--------------------+\n",
      "|account_id|days_btwn_acc_loan|number_of_residents|average_salary|entepreneur_rate|status|average_unemployment_rate|  average_crime_rate|average_order_amount|\n",
      "+----------+------------------+-------------------+--------------+----------------+------+-------------------------+--------------------+--------------------+\n",
      "|         2|               313|            1204953|         12541|             167|     1|                    0.315| 0.07667684963645885|             5319.35|\n",
      "|        19|               388|             103347|          9104|             123|     0|                    1.785|0.022511538796481757|              2523.2|\n",
      "|        25|               498|             228848|          9893|              96|     1|        4.359999999999999|0.025147696287492135|             2653.55|\n",
      "|        37|               422|              70646|          8547|             120|     0|                     3.12|0.021975766497749342|            2576.375|\n",
      "|        38|               254|              51428|          8402|             120|     1|                     3.54|0.020397448860542896|              2416.7|\n",
      "+----------+------------------+-------------------+--------------+----------------+------+-------------------------+--------------------+--------------------+\n",
      "only showing top 5 rows\n",
      "\n"
     ]
    }
   ],
   "source": [
    "# calculate average order amount from table order\n",
    "order_loan_account_district_df = loan_account_district_df.join(order_df.groupBy('account_id').agg(mean('amount').alias('average_order_amount')),'account_id')\n",
    "order_loan_account_district_df.show(n=5)"
   ]
  },
  {
   "cell_type": "code",
   "execution_count": 637,
   "metadata": {},
   "outputs": [
    {
     "data": {
      "text/plain": [
       "['trans_id',\n",
       " 'account_id',\n",
       " 'date',\n",
       " 'type',\n",
       " 'operation',\n",
       " 'amount',\n",
       " 'balance',\n",
       " 'k_symbol',\n",
       " 'branch',\n",
       " 'bank',\n",
       " 'account']"
      ]
     },
     "execution_count": 637,
     "metadata": {},
     "output_type": "execute_result"
    }
   ],
   "source": [
    "trans_df.columns"
   ]
  },
  {
   "cell_type": "code",
   "execution_count": 643,
   "metadata": {},
   "outputs": [
    {
     "name": "stdout",
     "output_type": "stream",
     "text": [
      "+----------+------------------+-------------------+--------------+----------------+------+-------------------------+--------------------+--------------------+--------------------+---------------------+\n",
      "|account_id|days_btwn_acc_loan|number_of_residents|average_salary|entepreneur_rate|status|average_unemployment_rate|  average_crime_rate|average_order_amount|average_trans_amount|average_trans_balance|\n",
      "+----------+------------------+-------------------+--------------+----------------+------+-------------------------+--------------------+--------------------+--------------------+---------------------+\n",
      "|         2|               313|            1204953|         12541|             167|     1|                    0.315| 0.07667684963645885|             5319.35|   6593.125523012553|   36540.780334728035|\n",
      "|        19|               388|             103347|          9104|             123|     0|                    1.785|0.022511538796481757|              2523.2|   5199.775577557756|   16253.069306930693|\n",
      "|        25|               498|             228848|          9893|              96|     1|        4.359999999999999|0.025147696287492135|             2653.55|  10797.649635036496|    56279.23722627737|\n",
      "|        37|               422|              70646|          8547|             120|     0|                     3.12|0.021975766497749342|            2576.375|   7293.530769230769|   37547.484615384616|\n",
      "|        38|               254|              51428|          8402|             120|     1|                     3.54|0.020397448860542896|              2416.7|   4399.630769230769|    34462.38461538462|\n",
      "+----------+------------------+-------------------+--------------+----------------+------+-------------------------+--------------------+--------------------+--------------------+---------------------+\n",
      "only showing top 5 rows\n",
      "\n"
     ]
    }
   ],
   "source": [
    "# from trans table calculate the average amount and balance per account_id\n",
    "trans_order_loan_account_district_df = order_loan_account_district_df.join(trans_df.select(\n",
    "    'account_id','amount','balance').groupBy('account_id').agg(mean('amount').alias('average_trans_amount'),mean('balance').alias('average_trans_balance')),'account_id')\n",
    "trans_order_loan_account_district_df.show(n=5)"
   ]
  },
  {
   "cell_type": "code",
   "execution_count": 687,
   "metadata": {},
   "outputs": [],
   "source": [
    "features = trans_order_loan_account_district_df"
   ]
  },
  {
   "cell_type": "code",
   "execution_count": null,
   "metadata": {},
   "outputs": [],
   "source": [
    "features.columns"
   ]
  },
  {
   "cell_type": "code",
   "execution_count": 650,
   "metadata": {},
   "outputs": [],
   "source": [
    "from pyspark.ml.feature import VectorAssembler\n",
    "assembler = VectorAssembler(inputCols=['account_id',\n",
    " 'days_btwn_acc_loan',\n",
    " 'number_of_residents',\n",
    " 'average_salary',\n",
    " 'entepreneur_rate',\n",
    " 'status',\n",
    " 'average_unemployment_rate',\n",
    " 'average_crime_rate',\n",
    " 'average_order_amount',\n",
    " 'average_trans_amount',\n",
    " 'average_trans_balance'], outputCol='features')"
   ]
  },
  {
   "cell_type": "code",
   "execution_count": 655,
   "metadata": {},
   "outputs": [],
   "source": [
    "output = assembler.transform(features)"
   ]
  },
  {
   "cell_type": "code",
   "execution_count": 659,
   "metadata": {},
   "outputs": [],
   "source": [
    "from pyspark.ml.feature import StringIndexer"
   ]
  },
  {
   "cell_type": "code",
   "execution_count": 660,
   "metadata": {},
   "outputs": [],
   "source": [
    "indexer = StringIndexer(inputCol='status',outputCol='statusIndex')"
   ]
  },
  {
   "cell_type": "code",
   "execution_count": 663,
   "metadata": {},
   "outputs": [],
   "source": [
    "output_fixed = indexer.fit(output).transform(output)"
   ]
  },
  {
   "cell_type": "code",
   "execution_count": 665,
   "metadata": {},
   "outputs": [
    {
     "name": "stdout",
     "output_type": "stream",
     "text": [
      "root\n",
      " |-- account_id: integer (nullable = true)\n",
      " |-- days_btwn_acc_loan: integer (nullable = true)\n",
      " |-- number_of_residents: integer (nullable = true)\n",
      " |-- average_salary: integer (nullable = true)\n",
      " |-- entepreneur_rate: integer (nullable = true)\n",
      " |-- status: integer (nullable = false)\n",
      " |-- average_unemployment_rate: double (nullable = true)\n",
      " |-- average_crime_rate: double (nullable = true)\n",
      " |-- average_order_amount: double (nullable = true)\n",
      " |-- average_trans_amount: double (nullable = true)\n",
      " |-- average_trans_balance: double (nullable = true)\n",
      " |-- features: vector (nullable = true)\n",
      " |-- statusIndex: double (nullable = false)\n",
      "\n"
     ]
    }
   ],
   "source": [
    "output_fixed.printSchema()"
   ]
  },
  {
   "cell_type": "code",
   "execution_count": 666,
   "metadata": {},
   "outputs": [],
   "source": [
    "final_features = output_fixed.select('features','statusIndex')"
   ]
  },
  {
   "cell_type": "code",
   "execution_count": 667,
   "metadata": {},
   "outputs": [],
   "source": [
    "train_data, test_data = final_features.randomSplit([0.7,0.3])"
   ]
  },
  {
   "cell_type": "code",
   "execution_count": 670,
   "metadata": {},
   "outputs": [],
   "source": [
    "from pyspark.ml.classification import DecisionTreeClassifier, GBTClassifier, RandomForestClassifier"
   ]
  },
  {
   "cell_type": "code",
   "execution_count": 671,
   "metadata": {},
   "outputs": [],
   "source": [
    "from pyspark.ml import Pipeline"
   ]
  },
  {
   "cell_type": "code",
   "execution_count": 673,
   "metadata": {},
   "outputs": [],
   "source": [
    "dtc = DecisionTreeClassifier(labelCol='statusIndex', featuresCol ='features')\n",
    "gbt = GBTClassifier(labelCol='statusIndex', featuresCol ='features')\n",
    "rfc = RandomForestClassifier(labelCol='statusIndex', featuresCol ='features')"
   ]
  },
  {
   "cell_type": "code",
   "execution_count": 675,
   "metadata": {},
   "outputs": [],
   "source": [
    "dtc_model = dtc.fit(train_data)\n",
    "gbt_model = gbt.fit(train_data)\n",
    "rfc_model = rfc.fit(train_data)"
   ]
  },
  {
   "cell_type": "code",
   "execution_count": 678,
   "metadata": {},
   "outputs": [],
   "source": [
    "dtc_preds = dtc_model.transform(test_data)\n",
    "gbt_preds = gbt_model.transform(test_data)\n",
    "rfc_preds = rfc_model.transform(test_data)"
   ]
  },
  {
   "cell_type": "code",
   "execution_count": 679,
   "metadata": {},
   "outputs": [],
   "source": [
    "from pyspark.ml.evaluation import BinaryClassificationEvaluator"
   ]
  },
  {
   "cell_type": "code",
   "execution_count": 680,
   "metadata": {},
   "outputs": [],
   "source": [
    "my_binary_eval = BinaryClassificationEvaluator(labelCol='statusIndex')"
   ]
  },
  {
   "cell_type": "code",
   "execution_count": 682,
   "metadata": {},
   "outputs": [
    {
     "name": "stdout",
     "output_type": "stream",
     "text": [
      "DTC\n",
      "1.0\n"
     ]
    }
   ],
   "source": [
    "print('DTC')\n",
    "print(my_binary_eval.evaluate(dtc_preds))"
   ]
  },
  {
   "cell_type": "code",
   "execution_count": 689,
   "metadata": {},
   "outputs": [
    {
     "name": "stdout",
     "output_type": "stream",
     "text": [
      "GBT\n",
      "1.0\n"
     ]
    }
   ],
   "source": [
    "my_binary_eval_1 = BinaryClassificationEvaluator(labelCol='statusIndex',\n",
    "                                                rawPredictionCol='prediction')\n",
    "print('GBT')\n",
    "print(my_binary_eval_1.evaluate(gbt_preds))"
   ]
  },
  {
   "cell_type": "code",
   "execution_count": 684,
   "metadata": {},
   "outputs": [
    {
     "name": "stdout",
     "output_type": "stream",
     "text": [
      "RFC\n",
      "1.0\n"
     ]
    }
   ],
   "source": [
    "print('RFC')\n",
    "print(my_binary_eval.evaluate(rfc_preds))"
   ]
  }
 ],
 "metadata": {
  "kernelspec": {
   "display_name": "Python 3",
   "language": "python",
   "name": "python3"
  },
  "language_info": {
   "codemirror_mode": {
    "name": "ipython",
    "version": 3
   },
   "file_extension": ".py",
   "mimetype": "text/x-python",
   "name": "python",
   "nbconvert_exporter": "python",
   "pygments_lexer": "ipython3",
   "version": "3.8.6"
  }
 },
 "nbformat": 4,
 "nbformat_minor": 4
}
